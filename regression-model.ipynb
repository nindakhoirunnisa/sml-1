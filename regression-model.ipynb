{
 "cells": [
  {
   "cell_type": "code",
   "execution_count": 1,
   "metadata": {},
   "outputs": [],
   "source": [
    "import numpy as np\n",
    "import pandas as pd\n",
    "import matplotlib.pyplot as plt\n",
    "import seaborn as sns\n",
    "import warnings\n",
    "warnings.filterwarnings(\"ignore\")\n",
    "sns.set_style(\"whitegrid\")\n",
    "sns.set_palette('bone')"
   ]
  },
  {
   "cell_type": "code",
   "execution_count": 2,
   "metadata": {},
   "outputs": [
    {
     "data": {
      "text/html": [
       "<div>\n",
       "<style scoped>\n",
       "    .dataframe tbody tr th:only-of-type {\n",
       "        vertical-align: middle;\n",
       "    }\n",
       "\n",
       "    .dataframe tbody tr th {\n",
       "        vertical-align: top;\n",
       "    }\n",
       "\n",
       "    .dataframe thead th {\n",
       "        text-align: right;\n",
       "    }\n",
       "</style>\n",
       "<table border=\"1\" class=\"dataframe\">\n",
       "  <thead>\n",
       "    <tr style=\"text-align: right;\">\n",
       "      <th></th>\n",
       "      <th>Pregnancies</th>\n",
       "      <th>Glucose</th>\n",
       "      <th>BloodPressure</th>\n",
       "      <th>SkinThickness</th>\n",
       "      <th>Insulin</th>\n",
       "      <th>BMI</th>\n",
       "      <th>DiabetesPedigree</th>\n",
       "      <th>Age</th>\n",
       "      <th>Outcome</th>\n",
       "    </tr>\n",
       "  </thead>\n",
       "  <tbody>\n",
       "    <tr>\n",
       "      <th>Null values (%)</th>\n",
       "      <td>0.0</td>\n",
       "      <td>0.666667</td>\n",
       "      <td>4.666667</td>\n",
       "      <td>29.466667</td>\n",
       "      <td>48.266667</td>\n",
       "      <td>1.466667</td>\n",
       "      <td>0.0</td>\n",
       "      <td>0.0</td>\n",
       "      <td>0.0</td>\n",
       "    </tr>\n",
       "  </tbody>\n",
       "</table>\n",
       "</div>"
      ],
      "text/plain": [
       "                 Pregnancies   Glucose  BloodPressure  SkinThickness  \\\n",
       "Null values (%)          0.0  0.666667       4.666667      29.466667   \n",
       "\n",
       "                   Insulin       BMI  DiabetesPedigree  Age  Outcome  \n",
       "Null values (%)  48.266667  1.466667               0.0  0.0      0.0  "
      ]
     },
     "execution_count": 2,
     "metadata": {},
     "output_type": "execute_result"
    }
   ],
   "source": [
    "df = pd.read_csv('PimaDiabetes.csv')\n",
    "replacements = {0: np.nan}\n",
    "df_copy = df.copy()\n",
    "df_copy['SkinThickness'].replace(replacements, inplace=True)\n",
    "df_copy['Glucose'].replace(replacements, inplace=True)\n",
    "df_copy['BloodPressure'].replace(replacements, inplace=True)\n",
    "df_copy['Insulin'].replace(replacements, inplace=True)\n",
    "df_copy['BMI'].replace(replacements, inplace=True)\n",
    "\n",
    "info=pd.DataFrame((df_copy.isna().sum())/len(df_copy)*100).T.rename(index={0:'Null values (%)'})\n",
    "info"
   ]
  },
  {
   "cell_type": "code",
   "execution_count": 3,
   "metadata": {},
   "outputs": [
    {
     "data": {
      "text/html": [
       "<div>\n",
       "<style scoped>\n",
       "    .dataframe tbody tr th:only-of-type {\n",
       "        vertical-align: middle;\n",
       "    }\n",
       "\n",
       "    .dataframe tbody tr th {\n",
       "        vertical-align: top;\n",
       "    }\n",
       "\n",
       "    .dataframe thead th {\n",
       "        text-align: right;\n",
       "    }\n",
       "</style>\n",
       "<table border=\"1\" class=\"dataframe\">\n",
       "  <thead>\n",
       "    <tr style=\"text-align: right;\">\n",
       "      <th></th>\n",
       "      <th>Pregnancies</th>\n",
       "      <th>Glucose</th>\n",
       "      <th>BloodPressure</th>\n",
       "      <th>BMI</th>\n",
       "      <th>DiabetesPedigree</th>\n",
       "      <th>Age</th>\n",
       "      <th>Outcome</th>\n",
       "    </tr>\n",
       "  </thead>\n",
       "  <tbody>\n",
       "    <tr>\n",
       "      <th>Null values (%)</th>\n",
       "      <td>0.0</td>\n",
       "      <td>0.666667</td>\n",
       "      <td>4.666667</td>\n",
       "      <td>1.466667</td>\n",
       "      <td>0.0</td>\n",
       "      <td>0.0</td>\n",
       "      <td>0.0</td>\n",
       "    </tr>\n",
       "  </tbody>\n",
       "</table>\n",
       "</div>"
      ],
      "text/plain": [
       "                 Pregnancies   Glucose  BloodPressure       BMI  \\\n",
       "Null values (%)          0.0  0.666667       4.666667  1.466667   \n",
       "\n",
       "                 DiabetesPedigree  Age  Outcome  \n",
       "Null values (%)               0.0  0.0      0.0  "
      ]
     },
     "execution_count": 3,
     "metadata": {},
     "output_type": "execute_result"
    }
   ],
   "source": [
    "df = df_copy.drop(['Insulin', 'SkinThickness'], axis=1)\n",
    "info=pd.DataFrame((df.isna().sum())/len(df)*100).T.rename(index={0:'Null values (%)'})\n",
    "info"
   ]
  },
  {
   "cell_type": "code",
   "execution_count": 4,
   "metadata": {},
   "outputs": [
    {
     "data": {
      "image/png": "[encoded data removed]",
      "text/plain": [
       "<Figure size 432x288 with 2 Axes>"
      ]
     },
     "metadata": {},
     "output_type": "display_data"
    }
   ],
   "source": [
    "mask = np.triu(np.ones_like(df.corr(),dtype = bool))\n",
    "ax = sns.heatmap(df.corr(), annot=True, mask=mask)\n",
    "plt.title('Correlation Heatmap')\n",
    "plt.show()"
   ]
  },
  {
   "cell_type": "code",
   "execution_count": 5,
   "metadata": {},
   "outputs": [
    {
     "data": {
      "text/html": [
       "<div>\n",
       "<style scoped>\n",
       "    .dataframe tbody tr th:only-of-type {\n",
       "        vertical-align: middle;\n",
       "    }\n",
       "\n",
       "    .dataframe tbody tr th {\n",
       "        vertical-align: top;\n",
       "    }\n",
       "\n",
       "    .dataframe thead th {\n",
       "        text-align: right;\n",
       "    }\n",
       "</style>\n",
       "<table border=\"1\" class=\"dataframe\">\n",
       "  <thead>\n",
       "    <tr style=\"text-align: right;\">\n",
       "      <th></th>\n",
       "      <th>Pregnancies</th>\n",
       "      <th>Glucose</th>\n",
       "      <th>BloodPressure</th>\n",
       "      <th>BMI</th>\n",
       "      <th>DiabetesPedigree</th>\n",
       "      <th>Age</th>\n",
       "      <th>Outcome</th>\n",
       "    </tr>\n",
       "  </thead>\n",
       "  <tbody>\n",
       "    <tr>\n",
       "      <th>Null values count</th>\n",
       "      <td>0</td>\n",
       "      <td>0</td>\n",
       "      <td>0</td>\n",
       "      <td>0</td>\n",
       "      <td>0</td>\n",
       "      <td>0</td>\n",
       "      <td>0</td>\n",
       "    </tr>\n",
       "  </tbody>\n",
       "</table>\n",
       "</div>"
      ],
      "text/plain": [
       "                   Pregnancies  Glucose  BloodPressure  BMI  DiabetesPedigree  \\\n",
       "Null values count            0        0              0    0                 0   \n",
       "\n",
       "                   Age  Outcome  \n",
       "Null values count    0        0  "
      ]
     },
     "execution_count": 5,
     "metadata": {},
     "output_type": "execute_result"
    }
   ],
   "source": [
    "for i in df.columns:\n",
    "    for j in (0,1):\n",
    "        df.loc[(df['Outcome'] == j) & (df[i].isnull()), i] = df.loc[(df['Outcome'] == j ), i].mean()\n",
    "\n",
    "info=pd.DataFrame(df.isna().sum()).T.rename(index={0:'Null values count'})\n",
    "info"
   ]
  },
  {
   "cell_type": "code",
   "execution_count": 6,
   "metadata": {},
   "outputs": [
    {
     "data": {
      "text/html": [
       "<div>\n",
       "<style scoped>\n",
       "    .dataframe tbody tr th:only-of-type {\n",
       "        vertical-align: middle;\n",
       "    }\n",
       "\n",
       "    .dataframe tbody tr th {\n",
       "        vertical-align: top;\n",
       "    }\n",
       "\n",
       "    .dataframe thead th {\n",
       "        text-align: right;\n",
       "    }\n",
       "</style>\n",
       "<table border=\"1\" class=\"dataframe\">\n",
       "  <thead>\n",
       "    <tr style=\"text-align: right;\">\n",
       "      <th></th>\n",
       "      <th>0</th>\n",
       "      <th>1</th>\n",
       "    </tr>\n",
       "  </thead>\n",
       "  <tbody>\n",
       "    <tr>\n",
       "      <th>1</th>\n",
       "      <td>Glucose</td>\n",
       "      <td>0</td>\n",
       "    </tr>\n",
       "    <tr>\n",
       "      <th>6</th>\n",
       "      <td>Outcome</td>\n",
       "      <td>0</td>\n",
       "    </tr>\n",
       "    <tr>\n",
       "      <th>0</th>\n",
       "      <td>Pregnancies</td>\n",
       "      <td>4</td>\n",
       "    </tr>\n",
       "    <tr>\n",
       "      <th>3</th>\n",
       "      <td>BMI</td>\n",
       "      <td>8</td>\n",
       "    </tr>\n",
       "    <tr>\n",
       "      <th>5</th>\n",
       "      <td>Age</td>\n",
       "      <td>12</td>\n",
       "    </tr>\n",
       "    <tr>\n",
       "      <th>2</th>\n",
       "      <td>BloodPressure</td>\n",
       "      <td>14</td>\n",
       "    </tr>\n",
       "    <tr>\n",
       "      <th>4</th>\n",
       "      <td>DiabetesPedigree</td>\n",
       "      <td>29</td>\n",
       "    </tr>\n",
       "  </tbody>\n",
       "</table>\n",
       "</div>"
      ],
      "text/plain": [
       "                  0   1\n",
       "1           Glucose   0\n",
       "6           Outcome   0\n",
       "0       Pregnancies   4\n",
       "3               BMI   8\n",
       "5               Age  12\n",
       "2     BloodPressure  14\n",
       "4  DiabetesPedigree  29"
      ]
     },
     "execution_count": 6,
     "metadata": {},
     "output_type": "execute_result"
    }
   ],
   "source": [
    "def get_num_outliers (df,column):\n",
    "    q1 = df[column].quantile(0.25)\n",
    "    q3 =  df[column].quantile(0.75)\n",
    "    iqr = q3-q1\n",
    "    return sum(( df[column]< (q1-1.5*iqr)) | ( df[column]>q3+(1.5*iqr)))\n",
    "    \n",
    "outliers = []\n",
    "for col in df.columns:\n",
    "    outliers.append(get_num_outliers(df,col))\n",
    "pd.DataFrame(list(zip(df.columns, outliers))).sort_values(1,ascending=True)"
   ]
  },
  {
   "cell_type": "code",
   "execution_count": 7,
   "metadata": {},
   "outputs": [],
   "source": [
    "def delete_outliers(col,df):\n",
    "    Q1 = np.percentile(df[col], 25)\n",
    "    Q3 = np.percentile(df[col], 75)\n",
    "    IQR = Q3 - Q1\n",
    "    lower, upper = Q1 - (1.5*IQR), Q3 + (1.5*IQR)\n",
    "    new_df = df[(df[col] < upper) & (df[col] > lower)]\n",
    "    return new_df"
   ]
  },
  {
   "cell_type": "code",
   "execution_count": 8,
   "metadata": {},
   "outputs": [],
   "source": [
    "def create_box_hist(df, x, hue):\n",
    "    variable = df[x].values\n",
    "    fig, (ax_box, ax_hist) = plt.subplots(2, sharex=True, gridspec_kw={\"height_ratios\": (0.5, 2)}, figsize=(7,9))\n",
    "    \n",
    "    mean = df[x].mean()\n",
    "    q1 = df[x].quantile(0.25)\n",
    "    q2 = df[x].quantile(0.5)\n",
    "    q3 = df[x].quantile(0.75)\n",
    "    \n",
    "    sns.boxplot(data=df, x=variable, ax=ax_box)\n",
    "    ax_box.axvline(mean, color='orange', linestyle='-', linewidth=2)\n",
    "    ax_box.axvline(q1, color='black', linestyle='--')\n",
    "    ax_box.axvline(q2, color='#003060', linestyle='--')\n",
    "    ax_box.axvline(q3, color='grey', linestyle='--')\n",
    "    \n",
    "    sns.histplot(data=df, x=x, kde=True, hue=hue)\n",
    "    ax_hist.axvline(mean, color='orange', linestyle='-', label='Mean')\n",
    "    ax_hist.axvline(q1, color='black', linestyle='--', label='Q1')\n",
    "    ax_hist.axvline(q2, color='#003060', linestyle='--', label='Q2')\n",
    "    ax_hist.axvline(q3, color='grey', linestyle='--', label='Q3')\n",
    "    \n",
    "    ax_hist.legend()\n",
    "\n",
    "    plt.show()"
   ]
  },
  {
   "cell_type": "code",
   "execution_count": 9,
   "metadata": {},
   "outputs": [
    {
     "data": {
      "image/png": "[encoded data removed]",
      "text/plain": [
       "<Figure size 504x648 with 2 Axes>"
      ]
     },
     "metadata": {},
     "output_type": "display_data"
    }
   ],
   "source": [
    "df_temp = delete_outliers('Pregnancies', df)\n",
    "create_box_hist(df_temp,'Pregnancies', 'Outcome')"
   ]
  },
  {
   "cell_type": "code",
   "execution_count": 10,
   "metadata": {},
   "outputs": [
    {
     "data": {
      "image/png": "[encoded data removed]",
      "text/plain": [
       "<Figure size 504x648 with 2 Axes>"
      ]
     },
     "metadata": {},
     "output_type": "display_data"
    }
   ],
   "source": [
    "create_box_hist(df_temp,'BMI', 'Outcome')"
   ]
  },
  {
   "cell_type": "code",
   "execution_count": 11,
   "metadata": {},
   "outputs": [
    {
     "data": {
      "image/png": "[encoded data removed]",
      "text/plain": [
       "<Figure size 504x648 with 2 Axes>"
      ]
     },
     "metadata": {},
     "output_type": "display_data"
    }
   ],
   "source": [
    "df_temp = delete_outliers('BMI', df_temp)\n",
    "df_temp\n",
    "create_box_hist(df_temp,'BMI', 'Outcome')"
   ]
  },
  {
   "cell_type": "code",
   "execution_count": 12,
   "metadata": {},
   "outputs": [
    {
     "data": {
      "text/html": [
       "<div>\n",
       "<style scoped>\n",
       "    .dataframe tbody tr th:only-of-type {\n",
       "        vertical-align: middle;\n",
       "    }\n",
       "\n",
       "    .dataframe tbody tr th {\n",
       "        vertical-align: top;\n",
       "    }\n",
       "\n",
       "    .dataframe thead th {\n",
       "        text-align: right;\n",
       "    }\n",
       "</style>\n",
       "<table border=\"1\" class=\"dataframe\">\n",
       "  <thead>\n",
       "    <tr style=\"text-align: right;\">\n",
       "      <th></th>\n",
       "      <th>Pregnancies</th>\n",
       "      <th>Glucose</th>\n",
       "      <th>BloodPressure</th>\n",
       "      <th>BMI</th>\n",
       "      <th>DiabetesPedigree</th>\n",
       "      <th>Age</th>\n",
       "      <th>Outcome</th>\n",
       "    </tr>\n",
       "  </thead>\n",
       "  <tbody>\n",
       "    <tr>\n",
       "      <th>0</th>\n",
       "      <td>6.0</td>\n",
       "      <td>148.0</td>\n",
       "      <td>72.0</td>\n",
       "      <td>33.6</td>\n",
       "      <td>0.627</td>\n",
       "      <td>50.0</td>\n",
       "      <td>1</td>\n",
       "    </tr>\n",
       "    <tr>\n",
       "      <th>1</th>\n",
       "      <td>1.0</td>\n",
       "      <td>85.0</td>\n",
       "      <td>66.0</td>\n",
       "      <td>26.6</td>\n",
       "      <td>0.351</td>\n",
       "      <td>31.0</td>\n",
       "      <td>0</td>\n",
       "    </tr>\n",
       "    <tr>\n",
       "      <th>2</th>\n",
       "      <td>8.0</td>\n",
       "      <td>183.0</td>\n",
       "      <td>64.0</td>\n",
       "      <td>23.3</td>\n",
       "      <td>0.672</td>\n",
       "      <td>32.0</td>\n",
       "      <td>1</td>\n",
       "    </tr>\n",
       "    <tr>\n",
       "      <th>3</th>\n",
       "      <td>1.0</td>\n",
       "      <td>89.0</td>\n",
       "      <td>66.0</td>\n",
       "      <td>28.1</td>\n",
       "      <td>0.167</td>\n",
       "      <td>21.0</td>\n",
       "      <td>0</td>\n",
       "    </tr>\n",
       "    <tr>\n",
       "      <th>4</th>\n",
       "      <td>0.0</td>\n",
       "      <td>137.0</td>\n",
       "      <td>40.0</td>\n",
       "      <td>43.1</td>\n",
       "      <td>2.288</td>\n",
       "      <td>33.0</td>\n",
       "      <td>1</td>\n",
       "    </tr>\n",
       "    <tr>\n",
       "      <th>...</th>\n",
       "      <td>...</td>\n",
       "      <td>...</td>\n",
       "      <td>...</td>\n",
       "      <td>...</td>\n",
       "      <td>...</td>\n",
       "      <td>...</td>\n",
       "      <td>...</td>\n",
       "    </tr>\n",
       "    <tr>\n",
       "      <th>745</th>\n",
       "      <td>12.0</td>\n",
       "      <td>100.0</td>\n",
       "      <td>84.0</td>\n",
       "      <td>30.0</td>\n",
       "      <td>0.488</td>\n",
       "      <td>46.0</td>\n",
       "      <td>0</td>\n",
       "    </tr>\n",
       "    <tr>\n",
       "      <th>746</th>\n",
       "      <td>1.0</td>\n",
       "      <td>147.0</td>\n",
       "      <td>94.0</td>\n",
       "      <td>49.3</td>\n",
       "      <td>0.358</td>\n",
       "      <td>27.0</td>\n",
       "      <td>1</td>\n",
       "    </tr>\n",
       "    <tr>\n",
       "      <th>747</th>\n",
       "      <td>1.0</td>\n",
       "      <td>81.0</td>\n",
       "      <td>74.0</td>\n",
       "      <td>46.3</td>\n",
       "      <td>1.096</td>\n",
       "      <td>32.0</td>\n",
       "      <td>0</td>\n",
       "    </tr>\n",
       "    <tr>\n",
       "      <th>748</th>\n",
       "      <td>3.0</td>\n",
       "      <td>187.0</td>\n",
       "      <td>70.0</td>\n",
       "      <td>36.4</td>\n",
       "      <td>0.408</td>\n",
       "      <td>36.0</td>\n",
       "      <td>1</td>\n",
       "    </tr>\n",
       "    <tr>\n",
       "      <th>749</th>\n",
       "      <td>6.0</td>\n",
       "      <td>162.0</td>\n",
       "      <td>62.0</td>\n",
       "      <td>24.3</td>\n",
       "      <td>0.178</td>\n",
       "      <td>50.0</td>\n",
       "      <td>1</td>\n",
       "    </tr>\n",
       "  </tbody>\n",
       "</table>\n",
       "<p>728 rows × 7 columns</p>\n",
       "</div>"
      ],
      "text/plain": [
       "     Pregnancies  Glucose  BloodPressure   BMI  DiabetesPedigree   Age  \\\n",
       "0            6.0    148.0           72.0  33.6             0.627  50.0   \n",
       "1            1.0     85.0           66.0  26.6             0.351  31.0   \n",
       "2            8.0    183.0           64.0  23.3             0.672  32.0   \n",
       "3            1.0     89.0           66.0  28.1             0.167  21.0   \n",
       "4            0.0    137.0           40.0  43.1             2.288  33.0   \n",
       "..           ...      ...            ...   ...               ...   ...   \n",
       "745         12.0    100.0           84.0  30.0             0.488  46.0   \n",
       "746          1.0    147.0           94.0  49.3             0.358  27.0   \n",
       "747          1.0     81.0           74.0  46.3             1.096  32.0   \n",
       "748          3.0    187.0           70.0  36.4             0.408  36.0   \n",
       "749          6.0    162.0           62.0  24.3             0.178  50.0   \n",
       "\n",
       "     Outcome  \n",
       "0          1  \n",
       "1          0  \n",
       "2          1  \n",
       "3          0  \n",
       "4          1  \n",
       "..       ...  \n",
       "745        0  \n",
       "746        1  \n",
       "747        0  \n",
       "748        1  \n",
       "749        1  \n",
       "\n",
       "[728 rows x 7 columns]"
      ]
     },
     "execution_count": 12,
     "metadata": {},
     "output_type": "execute_result"
    }
   ],
   "source": [
    "df_temp = delete_outliers('Age', df_temp)\n",
    "df_temp"
   ]
  },
  {
   "cell_type": "code",
   "execution_count": 13,
   "metadata": {},
   "outputs": [
    {
     "data": {
      "image/png": "[encoded data removed]",
      "text/plain": [
       "<Figure size 504x648 with 2 Axes>"
      ]
     },
     "metadata": {},
     "output_type": "display_data"
    }
   ],
   "source": [
    "create_box_hist(df_temp,'Age', 'Outcome')"
   ]
  },
  {
   "cell_type": "code",
   "execution_count": 14,
   "metadata": {},
   "outputs": [
    {
     "data": {
      "image/png": "[encoded data removed]",
      "text/plain": [
       "<Figure size 504x648 with 2 Axes>"
      ]
     },
     "metadata": {},
     "output_type": "display_data"
    }
   ],
   "source": [
    "df_temp = delete_outliers('BloodPressure', df_temp)\n",
    "create_box_hist(df_temp,'BloodPressure', 'Outcome')"
   ]
  },
  {
   "cell_type": "code",
   "execution_count": 15,
   "metadata": {},
   "outputs": [
    {
     "data": {
      "image/png": "[encoded data removed]",
      "text/plain": [
       "<Figure size 504x648 with 2 Axes>"
      ]
     },
     "metadata": {},
     "output_type": "display_data"
    }
   ],
   "source": [
    "df_temp = delete_outliers('DiabetesPedigree', df_temp)\n",
    "create_box_hist(df_temp,'DiabetesPedigree', 'Outcome')"
   ]
  },
  {
   "cell_type": "code",
   "execution_count": 16,
   "metadata": {},
   "outputs": [
    {
     "name": "stdout",
     "output_type": "stream",
     "text": [
      "Accuracy: 0.800\n"
     ]
    }
   ],
   "source": [
    "from sklearn.feature_selection import RFE\n",
    "from sklearn.model_selection import train_test_split\n",
    "from sklearn.linear_model import LogisticRegression\n",
    "from sklearn.metrics import accuracy_score\n",
    "from sklearn.preprocessing import StandardScaler\n",
    "\n",
    "#X = df_temp.drop(columns=\"Outcome\")\n",
    "#y = df_temp[\"Outcome\"]\n",
    "X = df.drop(columns=\"Outcome\")\n",
    "y = df[\"Outcome\"]\n",
    "\n",
    "X_train, X_test, y_train, y_test = train_test_split(X, y, test_size=0.1, random_state=0)\n",
    "#stdscl = StandardScaler()\n",
    "#stdscl.fit(X)\n",
    "#X_train = stdscl.transform(X_train)\n",
    "#X_test = stdscl.transform(X_test)\n",
    "\n",
    "lr = LogisticRegression()\n",
    "lr = lr.fit(X_train, y_train)\n",
    "yhat = lr.predict(X_test)\n",
    "acc = accuracy_score(y_test, yhat)\n",
    "\n",
    "print('Accuracy: %.3f' % acc)"
   ]
  },
  {
   "cell_type": "code",
   "execution_count": 17,
   "metadata": {},
   "outputs": [
    {
     "name": "stdout",
     "output_type": "stream",
     "text": [
      "Accuracy: 0.766\n"
     ]
    }
   ],
   "source": [
    "yhat = lr.predict(X_train)\n",
    "acc = accuracy_score(y_train, yhat)\n",
    "\n",
    "print('Accuracy: %.3f' % acc)"
   ]
  },
  {
   "cell_type": "code",
   "execution_count": 18,
   "metadata": {},
   "outputs": [
    {
     "name": "stdout",
     "output_type": "stream",
     "text": [
      "Intercept:  [-8.68829359]\n",
      "Coefficients: [('Pregnancies', 0.11673849779787775), ('Glucose', 0.03506071713042067), ('BloodPressure', -0.005905335872748376), ('BMI', 0.09058964302262991), ('DiabetesPedigree', 0.5690654354040718), ('Age', 0.010309955724877749)]\n"
     ]
    }
   ],
   "source": [
    "print(\"Intercept: \", lr.intercept_)\n",
    "print(\"Coefficients:\", list(zip(X_train.columns, lr.coef_[0])))"
   ]
  },
  {
   "cell_type": "code",
   "execution_count": 19,
   "metadata": {},
   "outputs": [
    {
     "data": {
      "text/plain": [
       "array([[ 0.1167385 ,  0.03506072, -0.00590534,  0.09058964,  0.56906544,\n",
       "         0.01030996]])"
      ]
     },
     "execution_count": 19,
     "metadata": {},
     "output_type": "execute_result"
    }
   ],
   "source": [
    "lr.coef_"
   ]
  },
  {
   "cell_type": "code",
   "execution_count": 20,
   "metadata": {},
   "outputs": [
    {
     "name": "stdout",
     "output_type": "stream",
     "text": [
      "[0 0 0 1 1]\n"
     ]
    }
   ],
   "source": [
    "preds = pd.read_csv(\"ToPredict.csv\").drop(['Insulin', 'SkinThickness'], axis=1)\n",
    "#preds_ = stdscl.transform(preds)\n",
    "pred = lr.predict(preds)\n",
    "print(pred)"
   ]
  },
  {
   "cell_type": "code",
   "execution_count": 21,
   "metadata": {},
   "outputs": [
    {
     "data": {
      "text/html": [
       "<div>\n",
       "<style scoped>\n",
       "    .dataframe tbody tr th:only-of-type {\n",
       "        vertical-align: middle;\n",
       "    }\n",
       "\n",
       "    .dataframe tbody tr th {\n",
       "        vertical-align: top;\n",
       "    }\n",
       "\n",
       "    .dataframe thead th {\n",
       "        text-align: right;\n",
       "    }\n",
       "</style>\n",
       "<table border=\"1\" class=\"dataframe\">\n",
       "  <thead>\n",
       "    <tr style=\"text-align: right;\">\n",
       "      <th></th>\n",
       "      <th>Pregnancies</th>\n",
       "      <th>Glucose</th>\n",
       "      <th>BloodPressure</th>\n",
       "      <th>BMI</th>\n",
       "      <th>DiabetesPedigree</th>\n",
       "      <th>Age</th>\n",
       "    </tr>\n",
       "  </thead>\n",
       "  <tbody>\n",
       "    <tr>\n",
       "      <th>0</th>\n",
       "      <td>4</td>\n",
       "      <td>136</td>\n",
       "      <td>70</td>\n",
       "      <td>31.2</td>\n",
       "      <td>1.182</td>\n",
       "      <td>22</td>\n",
       "    </tr>\n",
       "    <tr>\n",
       "      <th>1</th>\n",
       "      <td>1</td>\n",
       "      <td>121</td>\n",
       "      <td>78</td>\n",
       "      <td>39.0</td>\n",
       "      <td>0.261</td>\n",
       "      <td>28</td>\n",
       "    </tr>\n",
       "    <tr>\n",
       "      <th>2</th>\n",
       "      <td>3</td>\n",
       "      <td>108</td>\n",
       "      <td>62</td>\n",
       "      <td>26.0</td>\n",
       "      <td>0.223</td>\n",
       "      <td>25</td>\n",
       "    </tr>\n",
       "    <tr>\n",
       "      <th>3</th>\n",
       "      <td>0</td>\n",
       "      <td>181</td>\n",
       "      <td>88</td>\n",
       "      <td>43.3</td>\n",
       "      <td>0.222</td>\n",
       "      <td>26</td>\n",
       "    </tr>\n",
       "    <tr>\n",
       "      <th>4</th>\n",
       "      <td>8</td>\n",
       "      <td>154</td>\n",
       "      <td>78</td>\n",
       "      <td>32.4</td>\n",
       "      <td>0.443</td>\n",
       "      <td>45</td>\n",
       "    </tr>\n",
       "  </tbody>\n",
       "</table>\n",
       "</div>"
      ],
      "text/plain": [
       "   Pregnancies  Glucose  BloodPressure   BMI  DiabetesPedigree  Age\n",
       "0            4      136             70  31.2             1.182   22\n",
       "1            1      121             78  39.0             0.261   28\n",
       "2            3      108             62  26.0             0.223   25\n",
       "3            0      181             88  43.3             0.222   26\n",
       "4            8      154             78  32.4             0.443   45"
      ]
     },
     "execution_count": 21,
     "metadata": {},
     "output_type": "execute_result"
    }
   ],
   "source": [
    "preds"
   ]
  },
  {
   "cell_type": "code",
   "execution_count": 22,
   "metadata": {},
   "outputs": [
    {
     "data": {
      "text/plain": [
       "Pregnancies           4.000\n",
       "Glucose             136.000\n",
       "BloodPressure        70.000\n",
       "BMI                  31.200\n",
       "DiabetesPedigree      1.182\n",
       "Age                  22.000\n",
       "Name: 0, dtype: float64"
      ]
     },
     "execution_count": 22,
     "metadata": {},
     "output_type": "execute_result"
    }
   ],
   "source": [
    "preds.loc[0]"
   ]
  },
  {
   "cell_type": "code",
   "execution_count": 23,
   "metadata": {},
   "outputs": [],
   "source": [
    "a = lr.intercept_\n",
    "b = lr.coef_[0][0]\n",
    "c = lr.coef_[0][1]\n",
    "d = lr.coef_[0][2]\n",
    "e = lr.coef_[0][3]\n",
    "f = lr.coef_[0][4]\n",
    "g = lr.coef_[0][5]"
   ]
  },
  {
   "cell_type": "code",
   "execution_count": 24,
   "metadata": {},
   "outputs": [
    {
     "name": "stdout",
     "output_type": "stream",
     "text": [
      "0.46490670799795775\n"
     ]
    }
   ],
   "source": [
    "import math\n",
    "p = (math.exp(a+(b*preds.loc[0][0])+(c*preds.loc[0][1])+(d*preds.loc[0][2])+\n",
    "(e*preds.loc[0][3])+(f*preds.loc[0][4])+(g*(preds.loc[0][5]))))/(1+(math.exp(a+(b*preds.loc[0][0])+\n",
    "(c*preds.loc[0][1])+(d*preds.loc[0][2])+(e*preds.loc[0][3])+(f*preds.loc[0][4])+(g*(preds.loc[0][5])))))\n",
    "print(p)"
   ]
  },
  {
   "cell_type": "markdown",
   "metadata": {},
   "source": [
    "##### ==========================="
   ]
  },
  {
   "cell_type": "code",
   "execution_count": 25,
   "metadata": {},
   "outputs": [
    {
     "data": {
      "text/html": [
       "<div>\n",
       "<style scoped>\n",
       "    .dataframe tbody tr th:only-of-type {\n",
       "        vertical-align: middle;\n",
       "    }\n",
       "\n",
       "    .dataframe tbody tr th {\n",
       "        vertical-align: top;\n",
       "    }\n",
       "\n",
       "    .dataframe thead th {\n",
       "        text-align: right;\n",
       "    }\n",
       "</style>\n",
       "<table border=\"1\" class=\"dataframe\">\n",
       "  <thead>\n",
       "    <tr style=\"text-align: right;\">\n",
       "      <th></th>\n",
       "      <th>Pregnancies</th>\n",
       "      <th>Glucose</th>\n",
       "      <th>BloodPressure</th>\n",
       "      <th>SkinThickness</th>\n",
       "      <th>Insulin</th>\n",
       "      <th>BMI</th>\n",
       "      <th>DiabetesPedigree</th>\n",
       "      <th>Age</th>\n",
       "      <th>Outcome</th>\n",
       "    </tr>\n",
       "  </thead>\n",
       "  <tbody>\n",
       "    <tr>\n",
       "      <th>Null values (%)</th>\n",
       "      <td>0.0</td>\n",
       "      <td>0.666667</td>\n",
       "      <td>4.666667</td>\n",
       "      <td>29.466667</td>\n",
       "      <td>48.266667</td>\n",
       "      <td>1.466667</td>\n",
       "      <td>0.0</td>\n",
       "      <td>0.0</td>\n",
       "      <td>0.0</td>\n",
       "    </tr>\n",
       "  </tbody>\n",
       "</table>\n",
       "</div>"
      ],
      "text/plain": [
       "                 Pregnancies   Glucose  BloodPressure  SkinThickness  \\\n",
       "Null values (%)          0.0  0.666667       4.666667      29.466667   \n",
       "\n",
       "                   Insulin       BMI  DiabetesPedigree  Age  Outcome  \n",
       "Null values (%)  48.266667  1.466667               0.0  0.0      0.0  "
      ]
     },
     "execution_count": 25,
     "metadata": {},
     "output_type": "execute_result"
    }
   ],
   "source": [
    "df = pd.read_csv('PimaDiabetes.csv')\n",
    "replacements = {0: np.nan}\n",
    "df_copy = df.copy()\n",
    "df_copy['SkinThickness'].replace(replacements, inplace=True)\n",
    "df_copy['Glucose'].replace(replacements, inplace=True)\n",
    "df_copy['BloodPressure'].replace(replacements, inplace=True)\n",
    "df_copy['Insulin'].replace(replacements, inplace=True)\n",
    "df_copy['BMI'].replace(replacements, inplace=True)\n",
    "\n",
    "info=pd.DataFrame((df_copy.isna().sum())/len(df_copy)*100).T.rename(index={0:'Null values (%)'})\n",
    "info"
   ]
  },
  {
   "cell_type": "code",
   "execution_count": 26,
   "metadata": {},
   "outputs": [
    {
     "data": {
      "text/html": [
       "<div>\n",
       "<style scoped>\n",
       "    .dataframe tbody tr th:only-of-type {\n",
       "        vertical-align: middle;\n",
       "    }\n",
       "\n",
       "    .dataframe tbody tr th {\n",
       "        vertical-align: top;\n",
       "    }\n",
       "\n",
       "    .dataframe thead th {\n",
       "        text-align: right;\n",
       "    }\n",
       "</style>\n",
       "<table border=\"1\" class=\"dataframe\">\n",
       "  <thead>\n",
       "    <tr style=\"text-align: right;\">\n",
       "      <th></th>\n",
       "      <th>Pregnancies</th>\n",
       "      <th>Glucose</th>\n",
       "      <th>BloodPressure</th>\n",
       "      <th>SkinThickness</th>\n",
       "      <th>Insulin</th>\n",
       "      <th>BMI</th>\n",
       "      <th>DiabetesPedigree</th>\n",
       "      <th>Age</th>\n",
       "      <th>Outcome</th>\n",
       "    </tr>\n",
       "  </thead>\n",
       "  <tbody>\n",
       "    <tr>\n",
       "      <th>Null values count</th>\n",
       "      <td>0</td>\n",
       "      <td>0</td>\n",
       "      <td>0</td>\n",
       "      <td>0</td>\n",
       "      <td>0</td>\n",
       "      <td>0</td>\n",
       "      <td>0</td>\n",
       "      <td>0</td>\n",
       "      <td>0</td>\n",
       "    </tr>\n",
       "  </tbody>\n",
       "</table>\n",
       "</div>"
      ],
      "text/plain": [
       "                   Pregnancies  Glucose  BloodPressure  SkinThickness  \\\n",
       "Null values count            0        0              0              0   \n",
       "\n",
       "                   Insulin  BMI  DiabetesPedigree  Age  Outcome  \n",
       "Null values count        0    0                 0    0        0  "
      ]
     },
     "execution_count": 26,
     "metadata": {},
     "output_type": "execute_result"
    }
   ],
   "source": [
    "for i in df.columns:\n",
    "    for j in (0,1):\n",
    "        df.loc[(df['Outcome'] == j) & (df[i].isnull()), i] = df.loc[(df['Outcome'] == j ), i].mean()\n",
    "\n",
    "info=pd.DataFrame(df.isna().sum()).T.rename(index={0:'Null values count'})\n",
    "info"
   ]
  },
  {
   "cell_type": "code",
   "execution_count": 27,
   "metadata": {},
   "outputs": [
    {
     "data": {
      "text/plain": [
       "3    366\n",
       "4    239\n",
       "5     98\n",
       "2     42\n",
       "1      5\n",
       "Name: Glucose_cat, dtype: int64"
      ]
     },
     "execution_count": 27,
     "metadata": {},
     "output_type": "execute_result"
    }
   ],
   "source": [
    "newdf = df\n",
    "newdf['Glucose_cat'] = pd.cut(newdf['Glucose'], bins = [-1,40,80,120,160,np.inf], labels=[1,2,3,4,5])\n",
    "newdf['Glucose_cat'].value_counts()"
   ]
  },
  {
   "cell_type": "code",
   "execution_count": 28,
   "metadata": {},
   "outputs": [
    {
     "name": "stdout",
     "output_type": "stream",
     "text": [
      "Entire Dataset: \n",
      "3    0.488000\n",
      "4    0.318667\n",
      "5    0.130667\n",
      "2    0.056000\n",
      "1    0.006667\n",
      "Name: Glucose_cat, dtype: float64\n",
      "\n",
      "\n",
      "------------------------------\n",
      "\n",
      "Testing set: \n",
      "3    0.486667\n",
      "4    0.320000\n",
      "5    0.133333\n",
      "2    0.053333\n",
      "1    0.006667\n",
      "Name: Glucose_cat, dtype: float64\n"
     ]
    }
   ],
   "source": [
    "from sklearn.model_selection import StratifiedShuffleSplit\n",
    "split = StratifiedShuffleSplit(n_splits=1, test_size=0.2, random_state=42)\n",
    "\n",
    "for train_index, test_index in split.split(newdf, newdf[\"Glucose_cat\"]):\n",
    "    strat_train_set = newdf.loc[train_index]\n",
    "    strat_test_set = newdf.loc[test_index]\n",
    "def get_glucose_proportions(ndf):\n",
    "    print(ndf[\"Glucose_cat\"].value_counts() / len(ndf))\n",
    "\n",
    "print(\"Entire Dataset: \")\n",
    "get_glucose_proportions(newdf)\n",
    "print(\"\\n\")\n",
    "print(\"-\"*30)\n",
    "print(\"\\nTesting set: \")\n",
    "get_glucose_proportions(strat_test_set)"
   ]
  },
  {
   "cell_type": "code",
   "execution_count": 29,
   "metadata": {},
   "outputs": [],
   "source": [
    "for set_ in (strat_train_set, strat_test_set):\n",
    "    set_.drop(columns=[\"Glucose_cat\"], inplace=True)\n",
    "\n",
    "X_train = strat_train_set.drop(columns=[\"Outcome\"])\n",
    "y_train = strat_train_set[\"Outcome\"]\n",
    "\n",
    "X_test = strat_test_set.drop(columns=[\"Outcome\"])\n",
    "y_test = strat_test_set[\"Outcome\"]"
   ]
  },
  {
   "cell_type": "code",
   "execution_count": 30,
   "metadata": {},
   "outputs": [
    {
     "name": "stdout",
     "output_type": "stream",
     "text": [
      "Selected best 1:\n",
      "['Insulin']\n",
      "0.64\n",
      "              precision    recall  f1-score   support\n",
      "\n",
      "           0       0.66      0.95      0.78        99\n",
      "           1       0.29      0.04      0.07        51\n",
      "\n",
      "    accuracy                           0.64       150\n",
      "   macro avg       0.47      0.49      0.42       150\n",
      "weighted avg       0.53      0.64      0.54       150\n",
      "\n"
     ]
    },
    {
     "data": {
      "image/png": "[encoded data removed]",
      "text/plain": [
       "<Figure size 432x288 with 2 Axes>"
      ]
     },
     "metadata": {},
     "output_type": "display_data"
    },
    {
     "name": "stdout",
     "output_type": "stream",
     "text": [
      "Selected best 2:\n",
      "['Glucose' 'Insulin']\n",
      "0.7533333333333333\n",
      "              precision    recall  f1-score   support\n",
      "\n",
      "           0       0.78      0.87      0.82        99\n",
      "           1       0.68      0.53      0.59        51\n",
      "\n",
      "    accuracy                           0.75       150\n",
      "   macro avg       0.73      0.70      0.71       150\n",
      "weighted avg       0.75      0.75      0.74       150\n",
      "\n"
     ]
    },
    {
     "data": {
      "image/png": "[encoded data removed]",
      "text/plain": [
       "<Figure size 432x288 with 2 Axes>"
      ]
     },
     "metadata": {},
     "output_type": "display_data"
    },
    {
     "name": "stdout",
     "output_type": "stream",
     "text": [
      "Selected best 3:\n",
      "['Glucose' 'Insulin' 'Age']\n",
      "0.74\n",
      "              precision    recall  f1-score   support\n",
      "\n",
      "           0       0.77      0.86      0.81        99\n",
      "           1       0.65      0.51      0.57        51\n",
      "\n",
      "    accuracy                           0.74       150\n",
      "   macro avg       0.71      0.68      0.69       150\n",
      "weighted avg       0.73      0.74      0.73       150\n",
      "\n"
     ]
    },
    {
     "data": {
      "image/png": "[encoded data removed]",
      "text/plain": [
       "<Figure size 432x288 with 2 Axes>"
      ]
     },
     "metadata": {},
     "output_type": "display_data"
    },
    {
     "name": "stdout",
     "output_type": "stream",
     "text": [
      "Selected best 4:\n",
      "['Glucose' 'Insulin' 'BMI' 'Age']\n",
      "0.7933333333333333\n",
      "              precision    recall  f1-score   support\n",
      "\n",
      "           0       0.83      0.87      0.85        99\n",
      "           1       0.72      0.65      0.68        51\n",
      "\n",
      "    accuracy                           0.79       150\n",
      "   macro avg       0.77      0.76      0.76       150\n",
      "weighted avg       0.79      0.79      0.79       150\n",
      "\n"
     ]
    },
    {
     "data": {
      "image/png": "[encoded data removed]",
      "text/plain": [
       "<Figure size 432x288 with 2 Axes>"
      ]
     },
     "metadata": {},
     "output_type": "display_data"
    },
    {
     "name": "stdout",
     "output_type": "stream",
     "text": [
      "Selected best 5:\n",
      "['Pregnancies' 'Glucose' 'Insulin' 'BMI' 'Age']\n",
      "0.76\n",
      "              precision    recall  f1-score   support\n",
      "\n",
      "           0       0.81      0.83      0.82        99\n",
      "           1       0.65      0.63      0.64        51\n",
      "\n",
      "    accuracy                           0.76       150\n",
      "   macro avg       0.73      0.73      0.73       150\n",
      "weighted avg       0.76      0.76      0.76       150\n",
      "\n"
     ]
    },
    {
     "data": {
      "image/png": "[encoded data removed]",
      "text/plain": [
       "<Figure size 432x288 with 2 Axes>"
      ]
     },
     "metadata": {},
     "output_type": "display_data"
    },
    {
     "name": "stdout",
     "output_type": "stream",
     "text": [
      "Selected best 6:\n",
      "['Pregnancies' 'Glucose' 'SkinThickness' 'Insulin' 'BMI' 'Age']\n",
      "0.76\n",
      "              precision    recall  f1-score   support\n",
      "\n",
      "           0       0.81      0.83      0.82        99\n",
      "           1       0.65      0.63      0.64        51\n",
      "\n",
      "    accuracy                           0.76       150\n",
      "   macro avg       0.73      0.73      0.73       150\n",
      "weighted avg       0.76      0.76      0.76       150\n",
      "\n"
     ]
    },
    {
     "data": {
      "image/png": "[encoded data removed]",
      "text/plain": [
       "<Figure size 432x288 with 2 Axes>"
      ]
     },
     "metadata": {},
     "output_type": "display_data"
    },
    {
     "name": "stdout",
     "output_type": "stream",
     "text": [
      "Selected best 7:\n",
      "['Pregnancies' 'Glucose' 'BloodPressure' 'SkinThickness' 'Insulin' 'BMI'\n",
      " 'Age']\n",
      "0.7666666666666667\n",
      "              precision    recall  f1-score   support\n",
      "\n",
      "           0       0.81      0.84      0.83        99\n",
      "           1       0.67      0.63      0.65        51\n",
      "\n",
      "    accuracy                           0.77       150\n",
      "   macro avg       0.74      0.73      0.74       150\n",
      "weighted avg       0.76      0.77      0.76       150\n",
      "\n"
     ]
    },
    {
     "data": {
      "image/png": "[encoded data removed]",
      "text/plain": [
       "<Figure size 432x288 with 2 Axes>"
      ]
     },
     "metadata": {},
     "output_type": "display_data"
    },
    {
     "name": "stdout",
     "output_type": "stream",
     "text": [
      "Selected best 8:\n",
      "['Pregnancies' 'Glucose' 'BloodPressure' 'SkinThickness' 'Insulin' 'BMI'\n",
      " 'DiabetesPedigree' 'Age']\n",
      "0.78\n",
      "              precision    recall  f1-score   support\n",
      "\n",
      "           0       0.82      0.85      0.84        99\n",
      "           1       0.69      0.65      0.67        51\n",
      "\n",
      "    accuracy                           0.78       150\n",
      "   macro avg       0.76      0.75      0.75       150\n",
      "weighted avg       0.78      0.78      0.78       150\n",
      "\n"
     ]
    },
    {
     "data": {
      "image/png": "[encoded data removed]",
      "text/plain": [
       "<Figure size 432x288 with 2 Axes>"
      ]
     },
     "metadata": {},
     "output_type": "display_data"
    },
    {
     "name": "stdout",
     "output_type": "stream",
     "text": [
      "[  91.942 1109.588   14.732   80.529 2705.13   101.076    3.932  148.955]\n"
     ]
    }
   ],
   "source": [
    "from sklearn.feature_selection import SelectKBest\n",
    "#from sklearn.feature_selection import f_classif\n",
    "from sklearn.feature_selection import chi2\n",
    "from numpy import set_printoptions\n",
    "from sklearn.metrics import confusion_matrix, classification_report\n",
    "\n",
    "train_accs = [] # Log training errors for each model\n",
    "test_accs = [] # Log testing errors for each model\n",
    "for i in range(1,len(X_train.columns)+1):\n",
    "    #print(i)\n",
    "    test = SelectKBest(score_func=chi2, k=i)\n",
    "    fit = test.fit(X_train, y_train)\n",
    "    set_printoptions(precision=3)\n",
    "    features = fit.transform(X_train)\n",
    "\n",
    "    fea = np.array(X_train.columns)\n",
    "    filter = test.get_support()\n",
    "    print(\"Selected best {}:\".format(i))\n",
    "    print(fea[filter])\n",
    "\n",
    "    #print(features)\n",
    "    lr = LogisticRegression().fit(features, y_train)\n",
    "    pred_x = fit.transform(X_test)\n",
    "    #print(pred_x)\n",
    "    hat_y = lr.predict(pred_x)\n",
    "    yhat = lr.predict(features)\n",
    "    acc_lr = accuracy_score(hat_y, y_test)\n",
    "    print(acc_lr)\n",
    "    sns.heatmap(confusion_matrix(y_test, hat_y), annot=True)\n",
    "    accs_lr = accuracy_score(yhat, y_train)\n",
    "    test_accs.append(acc_lr)    \n",
    "    train_accs.append(accs_lr)\n",
    "    print(classification_report(y_test, hat_y))\n",
    "    plt.show()\n",
    "\n",
    "print(fit.scores_)"
   ]
  },
  {
   "cell_type": "code",
   "execution_count": 31,
   "metadata": {},
   "outputs": [
    {
     "data": {
      "image/png": "[encoded data removed]",
      "text/plain": [
       "<Figure size 432x288 with 1 Axes>"
      ]
     },
     "metadata": {},
     "output_type": "display_data"
    }
   ],
   "source": [
    "x_axs2 = np.arange(1,len(X_train.columns)+1) # Create domain for plot\n",
    "plt.plot(x_axs2, train_accs, label='Training Accuracy') # Plot training error over domain\n",
    "plt.plot(x_axs2, test_accs, label='Testing Accuracy') # Plot testing error over domain\n",
    "plt.xlabel('Features used') # Label x-axis\n",
    "plt.ylabel('Accuracy') # Label y-axis\n",
    "plt.legend() # Show plot labels as legend\n",
    "plt.show() # Show graph"
   ]
  },
  {
   "cell_type": "code",
   "execution_count": 32,
   "metadata": {},
   "outputs": [
    {
     "data": {
      "text/html": [
       "<div>\n",
       "<style scoped>\n",
       "    .dataframe tbody tr th:only-of-type {\n",
       "        vertical-align: middle;\n",
       "    }\n",
       "\n",
       "    .dataframe tbody tr th {\n",
       "        vertical-align: top;\n",
       "    }\n",
       "\n",
       "    .dataframe thead th {\n",
       "        text-align: right;\n",
       "    }\n",
       "</style>\n",
       "<table border=\"1\" class=\"dataframe\">\n",
       "  <thead>\n",
       "    <tr style=\"text-align: right;\">\n",
       "      <th></th>\n",
       "      <th>Specs</th>\n",
       "      <th>Score</th>\n",
       "    </tr>\n",
       "  </thead>\n",
       "  <tbody>\n",
       "    <tr>\n",
       "      <th>4</th>\n",
       "      <td>Insulin</td>\n",
       "      <td>2705.130209</td>\n",
       "    </tr>\n",
       "    <tr>\n",
       "      <th>1</th>\n",
       "      <td>Glucose</td>\n",
       "      <td>1109.587847</td>\n",
       "    </tr>\n",
       "    <tr>\n",
       "      <th>7</th>\n",
       "      <td>Age</td>\n",
       "      <td>148.954759</td>\n",
       "    </tr>\n",
       "    <tr>\n",
       "      <th>5</th>\n",
       "      <td>BMI</td>\n",
       "      <td>101.076057</td>\n",
       "    </tr>\n",
       "    <tr>\n",
       "      <th>0</th>\n",
       "      <td>Pregnancies</td>\n",
       "      <td>91.942343</td>\n",
       "    </tr>\n",
       "    <tr>\n",
       "      <th>3</th>\n",
       "      <td>SkinThickness</td>\n",
       "      <td>80.528642</td>\n",
       "    </tr>\n",
       "    <tr>\n",
       "      <th>2</th>\n",
       "      <td>BloodPressure</td>\n",
       "      <td>14.731648</td>\n",
       "    </tr>\n",
       "    <tr>\n",
       "      <th>6</th>\n",
       "      <td>DiabetesPedigree</td>\n",
       "      <td>3.931560</td>\n",
       "    </tr>\n",
       "  </tbody>\n",
       "</table>\n",
       "</div>"
      ],
      "text/plain": [
       "              Specs        Score\n",
       "4           Insulin  2705.130209\n",
       "1           Glucose  1109.587847\n",
       "7               Age   148.954759\n",
       "5               BMI   101.076057\n",
       "0       Pregnancies    91.942343\n",
       "3     SkinThickness    80.528642\n",
       "2     BloodPressure    14.731648\n",
       "6  DiabetesPedigree     3.931560"
      ]
     },
     "metadata": {},
     "output_type": "display_data"
    }
   ],
   "source": [
    "dfscores = pd.DataFrame(fit.scores_)\n",
    "dfcolumns = pd.DataFrame(X_train.columns)\n",
    "#concat two dataframes for better visualization \n",
    "featureScores = pd.concat([dfcolumns,dfscores],axis=1)\n",
    "featureScores.columns = ['Specs','Score']\n",
    "display(featureScores.nlargest(8,'Score'))"
   ]
  },
  {
   "cell_type": "code",
   "execution_count": 33,
   "metadata": {},
   "outputs": [],
   "source": [
    "strat_train_set = strat_train_set.drop(['Insulin', 'SkinThickness'], axis=1)\n",
    "strat_test_set = strat_test_set.drop(['Insulin', 'SkinThickness'], axis=1)"
   ]
  },
  {
   "cell_type": "code",
   "execution_count": 34,
   "metadata": {},
   "outputs": [
    {
     "data": {
      "text/html": [
       "<div>\n",
       "<style scoped>\n",
       "    .dataframe tbody tr th:only-of-type {\n",
       "        vertical-align: middle;\n",
       "    }\n",
       "\n",
       "    .dataframe tbody tr th {\n",
       "        vertical-align: top;\n",
       "    }\n",
       "\n",
       "    .dataframe thead th {\n",
       "        text-align: right;\n",
       "    }\n",
       "</style>\n",
       "<table border=\"1\" class=\"dataframe\">\n",
       "  <thead>\n",
       "    <tr style=\"text-align: right;\">\n",
       "      <th></th>\n",
       "      <th>Pregnancies</th>\n",
       "      <th>Glucose</th>\n",
       "      <th>BloodPressure</th>\n",
       "      <th>BMI</th>\n",
       "      <th>DiabetesPedigree</th>\n",
       "      <th>Age</th>\n",
       "      <th>Outcome</th>\n",
       "    </tr>\n",
       "  </thead>\n",
       "  <tbody>\n",
       "    <tr>\n",
       "      <th>Null values count</th>\n",
       "      <td>0</td>\n",
       "      <td>4</td>\n",
       "      <td>31</td>\n",
       "      <td>11</td>\n",
       "      <td>0</td>\n",
       "      <td>0</td>\n",
       "      <td>0</td>\n",
       "    </tr>\n",
       "  </tbody>\n",
       "</table>\n",
       "</div>"
      ],
      "text/plain": [
       "                   Pregnancies  Glucose  BloodPressure  BMI  DiabetesPedigree  \\\n",
       "Null values count            0        4             31   11                 0   \n",
       "\n",
       "                   Age  Outcome  \n",
       "Null values count    0        0  "
      ]
     },
     "execution_count": 34,
     "metadata": {},
     "output_type": "execute_result"
    }
   ],
   "source": [
    "replacements = {0: np.nan}\n",
    "strat_train_set_ = strat_train_set.copy()\n",
    "cols = ['Glucose', 'BloodPressure', 'BMI', 'DiabetesPedigree', 'Age']\n",
    "for col in cols:\n",
    "    strat_train_set_[col].replace(replacements, inplace=True)\n",
    "\n",
    "info=pd.DataFrame(strat_train_set_.isna().sum()).T.rename(index={0:'Null values count'})\n",
    "info"
   ]
  },
  {
   "cell_type": "code",
   "execution_count": 35,
   "metadata": {},
   "outputs": [
    {
     "data": {
      "text/html": [
       "<div>\n",
       "<style scoped>\n",
       "    .dataframe tbody tr th:only-of-type {\n",
       "        vertical-align: middle;\n",
       "    }\n",
       "\n",
       "    .dataframe tbody tr th {\n",
       "        vertical-align: top;\n",
       "    }\n",
       "\n",
       "    .dataframe thead th {\n",
       "        text-align: right;\n",
       "    }\n",
       "</style>\n",
       "<table border=\"1\" class=\"dataframe\">\n",
       "  <thead>\n",
       "    <tr style=\"text-align: right;\">\n",
       "      <th></th>\n",
       "      <th>Pregnancies</th>\n",
       "      <th>Glucose</th>\n",
       "      <th>BloodPressure</th>\n",
       "      <th>BMI</th>\n",
       "      <th>DiabetesPedigree</th>\n",
       "      <th>Age</th>\n",
       "      <th>Outcome</th>\n",
       "    </tr>\n",
       "  </thead>\n",
       "  <tbody>\n",
       "    <tr>\n",
       "      <th>Null values count</th>\n",
       "      <td>0</td>\n",
       "      <td>0</td>\n",
       "      <td>0</td>\n",
       "      <td>0</td>\n",
       "      <td>0</td>\n",
       "      <td>0</td>\n",
       "      <td>0</td>\n",
       "    </tr>\n",
       "  </tbody>\n",
       "</table>\n",
       "</div>"
      ],
      "text/plain": [
       "                   Pregnancies  Glucose  BloodPressure  BMI  DiabetesPedigree  \\\n",
       "Null values count            0        0              0    0                 0   \n",
       "\n",
       "                   Age  Outcome  \n",
       "Null values count    0        0  "
      ]
     },
     "execution_count": 35,
     "metadata": {},
     "output_type": "execute_result"
    }
   ],
   "source": [
    "for i in strat_train_set_.columns:\n",
    "    for j in (0,1):\n",
    "        strat_train_set_.loc[(strat_train_set_['Outcome'] == j) & (strat_train_set_[i].isnull()), i] = strat_train_set_.loc[(strat_train_set_['Outcome'] == j ), i].median()\n",
    "\n",
    "info=pd.DataFrame(strat_train_set_.isna().sum()).T.rename(index={0:'Null values count'})\n",
    "info"
   ]
  },
  {
   "cell_type": "code",
   "execution_count": 36,
   "metadata": {},
   "outputs": [],
   "source": [
    "def delete_outliers(col,df):\n",
    "    Q1 = np.percentile(df[col], 25)\n",
    "    Q3 = np.percentile(df[col], 75)\n",
    "    IQR = Q3 - Q1\n",
    "    lower, upper = Q1 - (1.5*IQR), Q3 + (1.5*IQR)\n",
    "    new_df = df[(df[col] < upper) & (df[col] > lower)]\n",
    "    return new_df"
   ]
  },
  {
   "cell_type": "code",
   "execution_count": 37,
   "metadata": {},
   "outputs": [
    {
     "data": {
      "text/html": [
       "<div>\n",
       "<style scoped>\n",
       "    .dataframe tbody tr th:only-of-type {\n",
       "        vertical-align: middle;\n",
       "    }\n",
       "\n",
       "    .dataframe tbody tr th {\n",
       "        vertical-align: top;\n",
       "    }\n",
       "\n",
       "    .dataframe thead th {\n",
       "        text-align: right;\n",
       "    }\n",
       "</style>\n",
       "<table border=\"1\" class=\"dataframe\">\n",
       "  <thead>\n",
       "    <tr style=\"text-align: right;\">\n",
       "      <th></th>\n",
       "      <th>0</th>\n",
       "      <th>1</th>\n",
       "    </tr>\n",
       "  </thead>\n",
       "  <tbody>\n",
       "    <tr>\n",
       "      <th>6</th>\n",
       "      <td>Outcome</td>\n",
       "      <td>0</td>\n",
       "    </tr>\n",
       "    <tr>\n",
       "      <th>1</th>\n",
       "      <td>Glucose</td>\n",
       "      <td>1</td>\n",
       "    </tr>\n",
       "    <tr>\n",
       "      <th>0</th>\n",
       "      <td>Pregnancies</td>\n",
       "      <td>4</td>\n",
       "    </tr>\n",
       "    <tr>\n",
       "      <th>5</th>\n",
       "      <td>Age</td>\n",
       "      <td>9</td>\n",
       "    </tr>\n",
       "    <tr>\n",
       "      <th>2</th>\n",
       "      <td>BloodPressure</td>\n",
       "      <td>10</td>\n",
       "    </tr>\n",
       "    <tr>\n",
       "      <th>3</th>\n",
       "      <td>BMI</td>\n",
       "      <td>10</td>\n",
       "    </tr>\n",
       "    <tr>\n",
       "      <th>4</th>\n",
       "      <td>DiabetesPedigree</td>\n",
       "      <td>25</td>\n",
       "    </tr>\n",
       "  </tbody>\n",
       "</table>\n",
       "</div>"
      ],
      "text/plain": [
       "                  0   1\n",
       "6           Outcome   0\n",
       "1           Glucose   1\n",
       "0       Pregnancies   4\n",
       "5               Age   9\n",
       "2     BloodPressure  10\n",
       "3               BMI  10\n",
       "4  DiabetesPedigree  25"
      ]
     },
     "execution_count": 37,
     "metadata": {},
     "output_type": "execute_result"
    }
   ],
   "source": [
    "def get_num_outliers (df,column):\n",
    "    q1 = df[column].quantile(0.25)\n",
    "    q3 =  df[column].quantile(0.75)\n",
    "    iqr = q3-q1\n",
    "    return sum(( df[column]< (q1-1.5*iqr)) | ( df[column]>q3+(1.5*iqr)))\n",
    "    \n",
    "outliers = []\n",
    "for col in strat_train_set_.columns:\n",
    "    outliers.append(get_num_outliers(strat_train_set_,col))\n",
    "pd.DataFrame(list(zip(strat_train_set_.columns, outliers))).sort_values(1,ascending=True)"
   ]
  },
  {
   "cell_type": "code",
   "execution_count": 38,
   "metadata": {},
   "outputs": [
    {
     "data": {
      "text/html": [
       "<div>\n",
       "<style scoped>\n",
       "    .dataframe tbody tr th:only-of-type {\n",
       "        vertical-align: middle;\n",
       "    }\n",
       "\n",
       "    .dataframe tbody tr th {\n",
       "        vertical-align: top;\n",
       "    }\n",
       "\n",
       "    .dataframe thead th {\n",
       "        text-align: right;\n",
       "    }\n",
       "</style>\n",
       "<table border=\"1\" class=\"dataframe\">\n",
       "  <thead>\n",
       "    <tr style=\"text-align: right;\">\n",
       "      <th></th>\n",
       "      <th>Pregnancies</th>\n",
       "      <th>Glucose</th>\n",
       "      <th>BloodPressure</th>\n",
       "      <th>BMI</th>\n",
       "      <th>DiabetesPedigree</th>\n",
       "      <th>Age</th>\n",
       "      <th>Outcome</th>\n",
       "    </tr>\n",
       "  </thead>\n",
       "  <tbody>\n",
       "    <tr>\n",
       "      <th>482</th>\n",
       "      <td>4.0</td>\n",
       "      <td>85.0</td>\n",
       "      <td>58.0</td>\n",
       "      <td>27.80</td>\n",
       "      <td>0.306</td>\n",
       "      <td>28.0</td>\n",
       "      <td>0</td>\n",
       "    </tr>\n",
       "    <tr>\n",
       "      <th>143</th>\n",
       "      <td>10.0</td>\n",
       "      <td>108.0</td>\n",
       "      <td>66.0</td>\n",
       "      <td>32.40</td>\n",
       "      <td>0.272</td>\n",
       "      <td>42.0</td>\n",
       "      <td>1</td>\n",
       "    </tr>\n",
       "    <tr>\n",
       "      <th>720</th>\n",
       "      <td>4.0</td>\n",
       "      <td>83.0</td>\n",
       "      <td>86.0</td>\n",
       "      <td>29.30</td>\n",
       "      <td>0.317</td>\n",
       "      <td>34.0</td>\n",
       "      <td>0</td>\n",
       "    </tr>\n",
       "    <tr>\n",
       "      <th>412</th>\n",
       "      <td>1.0</td>\n",
       "      <td>143.0</td>\n",
       "      <td>84.0</td>\n",
       "      <td>42.40</td>\n",
       "      <td>1.076</td>\n",
       "      <td>22.0</td>\n",
       "      <td>0</td>\n",
       "    </tr>\n",
       "    <tr>\n",
       "      <th>660</th>\n",
       "      <td>10.0</td>\n",
       "      <td>162.0</td>\n",
       "      <td>84.0</td>\n",
       "      <td>27.70</td>\n",
       "      <td>0.182</td>\n",
       "      <td>54.0</td>\n",
       "      <td>0</td>\n",
       "    </tr>\n",
       "    <tr>\n",
       "      <th>...</th>\n",
       "      <td>...</td>\n",
       "      <td>...</td>\n",
       "      <td>...</td>\n",
       "      <td>...</td>\n",
       "      <td>...</td>\n",
       "      <td>...</td>\n",
       "      <td>...</td>\n",
       "    </tr>\n",
       "    <tr>\n",
       "      <th>115</th>\n",
       "      <td>4.0</td>\n",
       "      <td>146.0</td>\n",
       "      <td>92.0</td>\n",
       "      <td>31.20</td>\n",
       "      <td>0.539</td>\n",
       "      <td>61.0</td>\n",
       "      <td>1</td>\n",
       "    </tr>\n",
       "    <tr>\n",
       "      <th>49</th>\n",
       "      <td>7.0</td>\n",
       "      <td>105.0</td>\n",
       "      <td>70.0</td>\n",
       "      <td>29.85</td>\n",
       "      <td>0.305</td>\n",
       "      <td>24.0</td>\n",
       "      <td>0</td>\n",
       "    </tr>\n",
       "    <tr>\n",
       "      <th>587</th>\n",
       "      <td>6.0</td>\n",
       "      <td>103.0</td>\n",
       "      <td>66.0</td>\n",
       "      <td>24.30</td>\n",
       "      <td>0.249</td>\n",
       "      <td>29.0</td>\n",
       "      <td>0</td>\n",
       "    </tr>\n",
       "    <tr>\n",
       "      <th>387</th>\n",
       "      <td>8.0</td>\n",
       "      <td>105.0</td>\n",
       "      <td>100.0</td>\n",
       "      <td>43.30</td>\n",
       "      <td>0.239</td>\n",
       "      <td>45.0</td>\n",
       "      <td>1</td>\n",
       "    </tr>\n",
       "    <tr>\n",
       "      <th>50</th>\n",
       "      <td>1.0</td>\n",
       "      <td>103.0</td>\n",
       "      <td>80.0</td>\n",
       "      <td>19.40</td>\n",
       "      <td>0.491</td>\n",
       "      <td>22.0</td>\n",
       "      <td>0</td>\n",
       "    </tr>\n",
       "  </tbody>\n",
       "</table>\n",
       "<p>537 rows × 7 columns</p>\n",
       "</div>"
      ],
      "text/plain": [
       "     Pregnancies  Glucose  BloodPressure    BMI  DiabetesPedigree   Age  \\\n",
       "482          4.0     85.0           58.0  27.80             0.306  28.0   \n",
       "143         10.0    108.0           66.0  32.40             0.272  42.0   \n",
       "720          4.0     83.0           86.0  29.30             0.317  34.0   \n",
       "412          1.0    143.0           84.0  42.40             1.076  22.0   \n",
       "660         10.0    162.0           84.0  27.70             0.182  54.0   \n",
       "..           ...      ...            ...    ...               ...   ...   \n",
       "115          4.0    146.0           92.0  31.20             0.539  61.0   \n",
       "49           7.0    105.0           70.0  29.85             0.305  24.0   \n",
       "587          6.0    103.0           66.0  24.30             0.249  29.0   \n",
       "387          8.0    105.0          100.0  43.30             0.239  45.0   \n",
       "50           1.0    103.0           80.0  19.40             0.491  22.0   \n",
       "\n",
       "     Outcome  \n",
       "482        0  \n",
       "143        1  \n",
       "720        0  \n",
       "412        0  \n",
       "660        0  \n",
       "..       ...  \n",
       "115        1  \n",
       "49         0  \n",
       "587        0  \n",
       "387        1  \n",
       "50         0  \n",
       "\n",
       "[537 rows x 7 columns]"
      ]
     },
     "execution_count": 38,
     "metadata": {},
     "output_type": "execute_result"
    }
   ],
   "source": [
    "df_glu = delete_outliers('Glucose', strat_train_set_)\n",
    "df_preg = delete_outliers('Pregnancies', df_glu)\n",
    "df_age = delete_outliers('Age', df_preg)\n",
    "df_BP = delete_outliers('BloodPressure', df_age)\n",
    "df_bmi = delete_outliers('BMI', df_BP)\n",
    "strat_train_set_ = delete_outliers('DiabetesPedigree', df_bmi)\n",
    "strat_train_set_\n",
    "#create_box_hist(df_glu, 'Glucose', 'Outcome')"
   ]
  },
  {
   "cell_type": "code",
   "execution_count": 39,
   "metadata": {},
   "outputs": [
    {
     "name": "stdout",
     "output_type": "stream",
     "text": [
      "Accuracy: 0.753\n"
     ]
    }
   ],
   "source": [
    "from sklearn.feature_selection import RFE\n",
    "\n",
    "X_train = strat_train_set_.drop(columns=\"Outcome\")\n",
    "y_train = strat_train_set_[\"Outcome\"]\n",
    "\n",
    "X_test = strat_test_set.drop(columns=\"Outcome\")\n",
    "y_test = strat_test_set[\"Outcome\"]\n",
    "\n",
    "lr = LogisticRegression()\n",
    "lr = lr.fit(X_train, y_train)\n",
    "yhat = lr.predict(X_test)\n",
    "acc = accuracy_score(y_test, yhat)\n",
    "\n",
    "print('Accuracy: %.3f' % acc)"
   ]
  },
  {
   "cell_type": "code",
   "execution_count": 40,
   "metadata": {},
   "outputs": [
    {
     "data": {
      "text/html": [
       "<div>\n",
       "<style scoped>\n",
       "    .dataframe tbody tr th:only-of-type {\n",
       "        vertical-align: middle;\n",
       "    }\n",
       "\n",
       "    .dataframe tbody tr th {\n",
       "        vertical-align: top;\n",
       "    }\n",
       "\n",
       "    .dataframe thead th {\n",
       "        text-align: right;\n",
       "    }\n",
       "</style>\n",
       "<table border=\"1\" class=\"dataframe\">\n",
       "  <thead>\n",
       "    <tr style=\"text-align: right;\">\n",
       "      <th></th>\n",
       "      <th>Intercept</th>\n",
       "      <th>Pregnancies</th>\n",
       "      <th>Glucose</th>\n",
       "      <th>BloodPressure</th>\n",
       "      <th>BMI</th>\n",
       "      <th>DiabetesPedigree</th>\n",
       "      <th>Age</th>\n",
       "    </tr>\n",
       "  </thead>\n",
       "  <tbody>\n",
       "    <tr>\n",
       "      <th>0</th>\n",
       "      <td>-9.579839</td>\n",
       "      <td>0.132963</td>\n",
       "      <td>0.040345</td>\n",
       "      <td>-0.013442</td>\n",
       "      <td>0.087081</td>\n",
       "      <td>1.149819</td>\n",
       "      <td>0.030028</td>\n",
       "    </tr>\n",
       "  </tbody>\n",
       "</table>\n",
       "</div>"
      ],
      "text/plain": [
       "   Intercept  Pregnancies   Glucose  BloodPressure       BMI  \\\n",
       "0  -9.579839     0.132963  0.040345      -0.013442  0.087081   \n",
       "\n",
       "   DiabetesPedigree       Age  \n",
       "0          1.149819  0.030028  "
      ]
     },
     "execution_count": 40,
     "metadata": {},
     "output_type": "execute_result"
    }
   ],
   "source": [
    "dicti = {'Intercept': lr.intercept_[0]}\n",
    "for i in range(0,len(X_train.columns)):\n",
    "    for j in range(0,len(lr.coef_[0])):\n",
    "        if i == j:\n",
    "            dicti[X_train.columns[i]] = [lr.coef_[0][j]]\n",
    "info = pd.DataFrame(dicti)\n",
    "info"
   ]
  },
  {
   "cell_type": "code",
   "execution_count": 41,
   "metadata": {},
   "outputs": [
    {
     "data": {
      "text/html": [
       "<div>\n",
       "<style scoped>\n",
       "    .dataframe tbody tr th:only-of-type {\n",
       "        vertical-align: middle;\n",
       "    }\n",
       "\n",
       "    .dataframe tbody tr th {\n",
       "        vertical-align: top;\n",
       "    }\n",
       "\n",
       "    .dataframe thead th {\n",
       "        text-align: right;\n",
       "    }\n",
       "</style>\n",
       "<table border=\"1\" class=\"dataframe\">\n",
       "  <thead>\n",
       "    <tr style=\"text-align: right;\">\n",
       "      <th></th>\n",
       "      <th>Pregnancies</th>\n",
       "      <th>Glucose</th>\n",
       "      <th>BloodPressure</th>\n",
       "      <th>BMI</th>\n",
       "      <th>DiabetesPedigree</th>\n",
       "      <th>Age</th>\n",
       "    </tr>\n",
       "  </thead>\n",
       "  <tbody>\n",
       "    <tr>\n",
       "      <th>0</th>\n",
       "      <td>4</td>\n",
       "      <td>136</td>\n",
       "      <td>70</td>\n",
       "      <td>31.2</td>\n",
       "      <td>1.182</td>\n",
       "      <td>22</td>\n",
       "    </tr>\n",
       "    <tr>\n",
       "      <th>1</th>\n",
       "      <td>1</td>\n",
       "      <td>121</td>\n",
       "      <td>78</td>\n",
       "      <td>39.0</td>\n",
       "      <td>0.261</td>\n",
       "      <td>28</td>\n",
       "    </tr>\n",
       "    <tr>\n",
       "      <th>2</th>\n",
       "      <td>3</td>\n",
       "      <td>108</td>\n",
       "      <td>62</td>\n",
       "      <td>26.0</td>\n",
       "      <td>0.223</td>\n",
       "      <td>25</td>\n",
       "    </tr>\n",
       "    <tr>\n",
       "      <th>3</th>\n",
       "      <td>0</td>\n",
       "      <td>181</td>\n",
       "      <td>88</td>\n",
       "      <td>43.3</td>\n",
       "      <td>0.222</td>\n",
       "      <td>26</td>\n",
       "    </tr>\n",
       "    <tr>\n",
       "      <th>4</th>\n",
       "      <td>8</td>\n",
       "      <td>154</td>\n",
       "      <td>78</td>\n",
       "      <td>32.4</td>\n",
       "      <td>0.443</td>\n",
       "      <td>45</td>\n",
       "    </tr>\n",
       "  </tbody>\n",
       "</table>\n",
       "</div>"
      ],
      "text/plain": [
       "   Pregnancies  Glucose  BloodPressure   BMI  DiabetesPedigree  Age\n",
       "0            4      136             70  31.2             1.182   22\n",
       "1            1      121             78  39.0             0.261   28\n",
       "2            3      108             62  26.0             0.223   25\n",
       "3            0      181             88  43.3             0.222   26\n",
       "4            8      154             78  32.4             0.443   45"
      ]
     },
     "metadata": {},
     "output_type": "display_data"
    },
    {
     "name": "stdout",
     "output_type": "stream",
     "text": [
      "0.5583941784586841\n"
     ]
    }
   ],
   "source": [
    "preds = pd.read_csv(\"ToPredict.csv\")\n",
    "preds = preds.drop(['Insulin', 'SkinThickness'], axis = 1)\n",
    "display(preds)\n",
    "\n",
    "a = lr.intercept_\n",
    "b = lr.coef_[0][0]\n",
    "c = lr.coef_[0][1]\n",
    "d = lr.coef_[0][2]\n",
    "e = lr.coef_[0][3]\n",
    "f = lr.coef_[0][4]\n",
    "g = lr.coef_[0][5]\n",
    "import math\n",
    "p = (math.exp(a+(b*preds.loc[0][0])+(c*preds.loc[0][1])+(d*preds.loc[0][2])+\n",
    "(e*preds.loc[0][3])+(f*preds.loc[0][4])+(g*(preds.loc[0][5]))))/(1+(math.exp(a+(b*preds.loc[0][0])+\n",
    "(c*preds.loc[0][1])+(d*preds.loc[0][2])+(e*preds.loc[0][3])+(f*preds.loc[0][4])+(g*(preds.loc[0][5])))))\n",
    "print(p)"
   ]
  },
  {
   "cell_type": "code",
   "execution_count": 42,
   "metadata": {},
   "outputs": [
    {
     "name": "stdout",
     "output_type": "stream",
     "text": [
      "[1 0 0 1 1]\n"
     ]
    }
   ],
   "source": [
    "ypreds_lr = lr.predict(preds)\n",
    "print(ypreds_lr)"
   ]
  },
  {
   "cell_type": "code",
   "execution_count": 43,
   "metadata": {},
   "outputs": [
    {
     "name": "stdout",
     "output_type": "stream",
     "text": [
      "[[0.442 0.558]\n",
      " [0.746 0.254]\n",
      " [0.916 0.084]\n",
      " [0.206 0.794]\n",
      " [0.209 0.791]]\n"
     ]
    }
   ],
   "source": [
    "print(lr.predict_proba(preds))"
   ]
  },
  {
   "cell_type": "code",
   "execution_count": 44,
   "metadata": {},
   "outputs": [
    {
     "data": {
      "text/html": [
       "<div>\n",
       "<style scoped>\n",
       "    .dataframe tbody tr th:only-of-type {\n",
       "        vertical-align: middle;\n",
       "    }\n",
       "\n",
       "    .dataframe tbody tr th {\n",
       "        vertical-align: top;\n",
       "    }\n",
       "\n",
       "    .dataframe thead th {\n",
       "        text-align: right;\n",
       "    }\n",
       "</style>\n",
       "<table border=\"1\" class=\"dataframe\">\n",
       "  <thead>\n",
       "    <tr style=\"text-align: right;\">\n",
       "      <th></th>\n",
       "      <th>Pregnancies</th>\n",
       "      <th>Glucose</th>\n",
       "      <th>BloodPressure</th>\n",
       "      <th>BMI</th>\n",
       "      <th>DiabetesPedigree</th>\n",
       "      <th>Age</th>\n",
       "      <th>Predicted Outcome</th>\n",
       "    </tr>\n",
       "  </thead>\n",
       "  <tbody>\n",
       "    <tr>\n",
       "      <th>0</th>\n",
       "      <td>4</td>\n",
       "      <td>136</td>\n",
       "      <td>70</td>\n",
       "      <td>31.2</td>\n",
       "      <td>1.182</td>\n",
       "      <td>22</td>\n",
       "      <td>1</td>\n",
       "    </tr>\n",
       "    <tr>\n",
       "      <th>1</th>\n",
       "      <td>1</td>\n",
       "      <td>121</td>\n",
       "      <td>78</td>\n",
       "      <td>39.0</td>\n",
       "      <td>0.261</td>\n",
       "      <td>28</td>\n",
       "      <td>0</td>\n",
       "    </tr>\n",
       "    <tr>\n",
       "      <th>2</th>\n",
       "      <td>3</td>\n",
       "      <td>108</td>\n",
       "      <td>62</td>\n",
       "      <td>26.0</td>\n",
       "      <td>0.223</td>\n",
       "      <td>25</td>\n",
       "      <td>0</td>\n",
       "    </tr>\n",
       "    <tr>\n",
       "      <th>3</th>\n",
       "      <td>0</td>\n",
       "      <td>181</td>\n",
       "      <td>88</td>\n",
       "      <td>43.3</td>\n",
       "      <td>0.222</td>\n",
       "      <td>26</td>\n",
       "      <td>1</td>\n",
       "    </tr>\n",
       "    <tr>\n",
       "      <th>4</th>\n",
       "      <td>8</td>\n",
       "      <td>154</td>\n",
       "      <td>78</td>\n",
       "      <td>32.4</td>\n",
       "      <td>0.443</td>\n",
       "      <td>45</td>\n",
       "      <td>1</td>\n",
       "    </tr>\n",
       "  </tbody>\n",
       "</table>\n",
       "</div>"
      ],
      "text/plain": [
       "   Pregnancies  Glucose  BloodPressure   BMI  DiabetesPedigree  Age  \\\n",
       "0            4      136             70  31.2             1.182   22   \n",
       "1            1      121             78  39.0             0.261   28   \n",
       "2            3      108             62  26.0             0.223   25   \n",
       "3            0      181             88  43.3             0.222   26   \n",
       "4            8      154             78  32.4             0.443   45   \n",
       "\n",
       "   Predicted Outcome  \n",
       "0                  1  \n",
       "1                  0  \n",
       "2                  0  \n",
       "3                  1  \n",
       "4                  1  "
      ]
     },
     "execution_count": 44,
     "metadata": {},
     "output_type": "execute_result"
    }
   ],
   "source": [
    "preds['Predicted Outcome'] = lr.predict(preds)\n",
    "preds"
   ]
  },
  {
   "cell_type": "code",
   "execution_count": 45,
   "metadata": {},
   "outputs": [
    {
     "name": "stdout",
     "output_type": "stream",
     "text": [
      "Selected best 1:\n",
      "['Glucose']\n",
      "0.7266666666666667\n",
      "              precision    recall  f1-score   support\n",
      "\n",
      "           0       0.77      0.83      0.80        99\n",
      "           1       0.61      0.53      0.57        51\n",
      "\n",
      "    accuracy                           0.73       150\n",
      "   macro avg       0.69      0.68      0.68       150\n",
      "weighted avg       0.72      0.73      0.72       150\n",
      "\n"
     ]
    },
    {
     "data": {
      "image/png": "[encoded data removed]",
      "text/plain": [
       "<Figure size 432x288 with 2 Axes>"
      ]
     },
     "metadata": {},
     "output_type": "display_data"
    },
    {
     "name": "stdout",
     "output_type": "stream",
     "text": [
      "Selected best 2:\n",
      "['Glucose' 'Age']\n",
      "0.7466666666666667\n",
      "              precision    recall  f1-score   support\n",
      "\n",
      "           0       0.79      0.84      0.81        99\n",
      "           1       0.64      0.57      0.60        51\n",
      "\n",
      "    accuracy                           0.75       150\n",
      "   macro avg       0.72      0.70      0.71       150\n",
      "weighted avg       0.74      0.75      0.74       150\n",
      "\n"
     ]
    },
    {
     "data": {
      "image/png": "[encoded data removed]",
      "text/plain": [
       "<Figure size 432x288 with 2 Axes>"
      ]
     },
     "metadata": {},
     "output_type": "display_data"
    },
    {
     "name": "stdout",
     "output_type": "stream",
     "text": [
      "Selected best 3:\n",
      "['Pregnancies' 'Glucose' 'Age']\n",
      "0.74\n",
      "              precision    recall  f1-score   support\n",
      "\n",
      "           0       0.79      0.82      0.81        99\n",
      "           1       0.62      0.59      0.61        51\n",
      "\n",
      "    accuracy                           0.74       150\n",
      "   macro avg       0.71      0.70      0.71       150\n",
      "weighted avg       0.74      0.74      0.74       150\n",
      "\n"
     ]
    },
    {
     "data": {
      "image/png": "[encoded data removed]",
      "text/plain": [
       "<Figure size 432x288 with 2 Axes>"
      ]
     },
     "metadata": {},
     "output_type": "display_data"
    },
    {
     "name": "stdout",
     "output_type": "stream",
     "text": [
      "Selected best 4:\n",
      "['Pregnancies' 'Glucose' 'BMI' 'Age']\n",
      "0.76\n",
      "              precision    recall  f1-score   support\n",
      "\n",
      "           0       0.82      0.82      0.82        99\n",
      "           1       0.65      0.65      0.65        51\n",
      "\n",
      "    accuracy                           0.76       150\n",
      "   macro avg       0.73      0.73      0.73       150\n",
      "weighted avg       0.76      0.76      0.76       150\n",
      "\n"
     ]
    },
    {
     "data": {
      "image/png": "[encoded data removed]",
      "text/plain": [
       "<Figure size 432x288 with 2 Axes>"
      ]
     },
     "metadata": {},
     "output_type": "display_data"
    },
    {
     "name": "stdout",
     "output_type": "stream",
     "text": [
      "Selected best 5:\n",
      "['Pregnancies' 'Glucose' 'BloodPressure' 'BMI' 'Age']\n",
      "0.7666666666666667\n",
      "              precision    recall  f1-score   support\n",
      "\n",
      "           0       0.83      0.82      0.82        99\n",
      "           1       0.65      0.67      0.66        51\n",
      "\n",
      "    accuracy                           0.77       150\n",
      "   macro avg       0.74      0.74      0.74       150\n",
      "weighted avg       0.77      0.77      0.77       150\n",
      "\n"
     ]
    },
    {
     "data": {
      "image/png": "[encoded data removed]",
      "text/plain": [
       "<Figure size 432x288 with 2 Axes>"
      ]
     },
     "metadata": {},
     "output_type": "display_data"
    },
    {
     "name": "stdout",
     "output_type": "stream",
     "text": [
      "Selected best 6:\n",
      "['Pregnancies' 'Glucose' 'BloodPressure' 'BMI' 'DiabetesPedigree' 'Age']\n",
      "0.7533333333333333\n",
      "              precision    recall  f1-score   support\n",
      "\n",
      "           0       0.82      0.80      0.81        99\n",
      "           1       0.63      0.67      0.65        51\n",
      "\n",
      "    accuracy                           0.75       150\n",
      "   macro avg       0.73      0.73      0.73       150\n",
      "weighted avg       0.76      0.75      0.75       150\n",
      "\n"
     ]
    },
    {
     "data": {
      "image/png": "[encoded data removed]",
      "text/plain": [
       "<Figure size 432x288 with 2 Axes>"
      ]
     },
     "metadata": {},
     "output_type": "display_data"
    },
    {
     "name": "stdout",
     "output_type": "stream",
     "text": [
      "[  88.335 1001.242   17.899   44.166    2.216  192.631]\n"
     ]
    }
   ],
   "source": [
    "train_accs = [] # Log training errors for each model\n",
    "test_accs = [] # Log testing errors for each model\n",
    "for i in range(1,len(X_train.columns)+1):\n",
    "    #print(i)\n",
    "    test = SelectKBest(score_func=chi2, k=i)\n",
    "    fit = test.fit(X_train, y_train)\n",
    "    set_printoptions(precision=3)\n",
    "    features = fit.transform(X_train)\n",
    "\n",
    "    fea = np.array(X_train.columns)\n",
    "    filter = test.get_support()\n",
    "    print(\"Selected best {}:\".format(i))\n",
    "    print(fea[filter])\n",
    "\n",
    "    #print(features)\n",
    "    lr = LogisticRegression().fit(features, y_train)\n",
    "    pred_x = fit.transform(X_test)\n",
    "    #print(pred_x)\n",
    "    hat_y = lr.predict(pred_x)\n",
    "    yhat = lr.predict(features)\n",
    "    acc_lr = accuracy_score(hat_y, y_test)\n",
    "    print(acc_lr)\n",
    "    sns.heatmap(confusion_matrix(y_test, hat_y), annot=True)\n",
    "    accs_lr = accuracy_score(yhat, y_train)\n",
    "    test_accs.append(acc_lr)    \n",
    "    train_accs.append(accs_lr)\n",
    "    print(classification_report(y_test, hat_y))\n",
    "    plt.show()\n",
    "\n",
    "print(fit.scores_)"
   ]
  },
  {
   "cell_type": "code",
   "execution_count": 46,
   "metadata": {},
   "outputs": [
    {
     "data": {
      "text/html": [
       "<div>\n",
       "<style scoped>\n",
       "    .dataframe tbody tr th:only-of-type {\n",
       "        vertical-align: middle;\n",
       "    }\n",
       "\n",
       "    .dataframe tbody tr th {\n",
       "        vertical-align: top;\n",
       "    }\n",
       "\n",
       "    .dataframe thead th {\n",
       "        text-align: right;\n",
       "    }\n",
       "</style>\n",
       "<table border=\"1\" class=\"dataframe\">\n",
       "  <thead>\n",
       "    <tr style=\"text-align: right;\">\n",
       "      <th></th>\n",
       "      <th>Specs</th>\n",
       "      <th>Score</th>\n",
       "    </tr>\n",
       "  </thead>\n",
       "  <tbody>\n",
       "    <tr>\n",
       "      <th>1</th>\n",
       "      <td>Glucose</td>\n",
       "      <td>1001.241934</td>\n",
       "    </tr>\n",
       "    <tr>\n",
       "      <th>5</th>\n",
       "      <td>Age</td>\n",
       "      <td>192.631036</td>\n",
       "    </tr>\n",
       "    <tr>\n",
       "      <th>0</th>\n",
       "      <td>Pregnancies</td>\n",
       "      <td>88.335317</td>\n",
       "    </tr>\n",
       "    <tr>\n",
       "      <th>3</th>\n",
       "      <td>BMI</td>\n",
       "      <td>44.165514</td>\n",
       "    </tr>\n",
       "    <tr>\n",
       "      <th>2</th>\n",
       "      <td>BloodPressure</td>\n",
       "      <td>17.899156</td>\n",
       "    </tr>\n",
       "    <tr>\n",
       "      <th>4</th>\n",
       "      <td>DiabetesPedigree</td>\n",
       "      <td>2.215550</td>\n",
       "    </tr>\n",
       "  </tbody>\n",
       "</table>\n",
       "</div>"
      ],
      "text/plain": [
       "              Specs        Score\n",
       "1           Glucose  1001.241934\n",
       "5               Age   192.631036\n",
       "0       Pregnancies    88.335317\n",
       "3               BMI    44.165514\n",
       "2     BloodPressure    17.899156\n",
       "4  DiabetesPedigree     2.215550"
      ]
     },
     "metadata": {},
     "output_type": "display_data"
    }
   ],
   "source": [
    "dfscores = pd.DataFrame(fit.scores_)\n",
    "dfcolumns = pd.DataFrame(X_train.columns)\n",
    "#concat two dataframes for better visualization \n",
    "featureScores = pd.concat([dfcolumns,dfscores],axis=1)\n",
    "featureScores.columns = ['Specs','Score']\n",
    "display(featureScores.nlargest(8,'Score'))"
   ]
  },
  {
   "cell_type": "code",
   "execution_count": 47,
   "metadata": {},
   "outputs": [
    {
     "data": {
      "image/png": "[encoded data removed]",
      "text/plain": [
       "<Figure size 432x288 with 1 Axes>"
      ]
     },
     "metadata": {},
     "output_type": "display_data"
    }
   ],
   "source": [
    "x_axs2 = np.arange(1,len(X_train.columns)+1) # Create domain for plot\n",
    "plt.plot(x_axs2, train_accs, label='Training Accuracy') # Plot training error over domain\n",
    "plt.plot(x_axs2, test_accs, label='Testing Accuracy') # Plot testing error over domain\n",
    "plt.xlabel('Features used') # Label x-axis\n",
    "plt.ylabel('Accuracy') # Label y-axis\n",
    "plt.legend() # Show plot labels as legend\n",
    "plt.show() # Show graph"
   ]
  },
  {
   "cell_type": "code",
   "execution_count": 48,
   "metadata": {},
   "outputs": [],
   "source": [
    "#X_train_ = strat_train_set_.drop(columns=[\"Outcome\", \"Pregnancies\", \"BloodPressure\", \"DiabetesPedigree\"])\n",
    "#y_train = strat_train_set_[\"Outcome\"]\n",
    "\n",
    "#X_test_ = strat_test_set.drop(columns=[\"Outcome\", \"Pregnancies\", \"SkinThickness\", \"Insulin\", \"BloodPressure\", \"DiabetesPedigree\"])\n",
    "#y_test = strat_test_set[\"Outcome\"]"
   ]
  },
  {
   "cell_type": "code",
   "execution_count": 49,
   "metadata": {},
   "outputs": [],
   "source": [
    "#lr2 = lr.fit(X_train_, y_train)\n",
    "#yhat = lr2.predict(X_test_)\n",
    "#acc = accuracy_score(y_test, yhat)\n",
    "\n",
    "#print('Accuracy: %.3f' % acc)"
   ]
  },
  {
   "cell_type": "code",
   "execution_count": 50,
   "metadata": {},
   "outputs": [
    {
     "name": "stdout",
     "output_type": "stream",
     "text": [
      "Selected best 5:\n",
      "['Pregnancies' 'Glucose' 'BloodPressure' 'BMI' 'Age']\n"
     ]
    }
   ],
   "source": [
    "test = SelectKBest(score_func=chi2, k=5)\n",
    "fit = test.fit(X_train, y_train)\n",
    "set_printoptions(precision=3)\n",
    "features = fit.transform(X_train)\n",
    "\n",
    "fea = np.array(X_train.columns)\n",
    "filter = test.get_support()\n",
    "print(\"Selected best 5:\")\n",
    "print(fea[filter])\n",
    "\n",
    "lr = LogisticRegression().fit(features, y_train)\n",
    "pred_x = fit.transform(X_test)\n",
    "#print(pred_x)\n",
    "hat_y = lr.predict(pred_x)\n",
    "acc_lr = accuracy_score(hat_y, y_test)"
   ]
  },
  {
   "cell_type": "code",
   "execution_count": 51,
   "metadata": {},
   "outputs": [],
   "source": [
    "X_train2 = X_train.drop(['DiabetesPedigree'],axis=1)"
   ]
  },
  {
   "cell_type": "code",
   "execution_count": 52,
   "metadata": {},
   "outputs": [
    {
     "data": {
      "text/plain": [
       "0.7666666666666667"
      ]
     },
     "execution_count": 52,
     "metadata": {},
     "output_type": "execute_result"
    }
   ],
   "source": [
    "acc_lr"
   ]
  },
  {
   "cell_type": "code",
   "execution_count": 53,
   "metadata": {},
   "outputs": [
    {
     "data": {
      "text/html": [
       "<div>\n",
       "<style scoped>\n",
       "    .dataframe tbody tr th:only-of-type {\n",
       "        vertical-align: middle;\n",
       "    }\n",
       "\n",
       "    .dataframe tbody tr th {\n",
       "        vertical-align: top;\n",
       "    }\n",
       "\n",
       "    .dataframe thead th {\n",
       "        text-align: right;\n",
       "    }\n",
       "</style>\n",
       "<table border=\"1\" class=\"dataframe\">\n",
       "  <thead>\n",
       "    <tr style=\"text-align: right;\">\n",
       "      <th></th>\n",
       "      <th>Intercept</th>\n",
       "      <th>Pregnancies</th>\n",
       "      <th>Glucose</th>\n",
       "      <th>BloodPressure</th>\n",
       "      <th>BMI</th>\n",
       "      <th>Age</th>\n",
       "    </tr>\n",
       "  </thead>\n",
       "  <tbody>\n",
       "    <tr>\n",
       "      <th>0</th>\n",
       "      <td>-9.232182</td>\n",
       "      <td>0.127546</td>\n",
       "      <td>0.040208</td>\n",
       "      <td>-0.01342</td>\n",
       "      <td>0.092291</td>\n",
       "      <td>0.030519</td>\n",
       "    </tr>\n",
       "  </tbody>\n",
       "</table>\n",
       "</div>"
      ],
      "text/plain": [
       "   Intercept  Pregnancies   Glucose  BloodPressure       BMI       Age\n",
       "0  -9.232182     0.127546  0.040208       -0.01342  0.092291  0.030519"
      ]
     },
     "execution_count": 53,
     "metadata": {},
     "output_type": "execute_result"
    }
   ],
   "source": [
    "dicti = {'Intercept': lr.intercept_[0]}\n",
    "for i in range(0,len(X_train2.columns)):\n",
    "    for j in range(0,len(lr.coef_[0])):\n",
    "        if i == j:\n",
    "            dicti[X_train2.columns[i]] = [lr.coef_[0][j]]\n",
    "info = pd.DataFrame(dicti)\n",
    "info"
   ]
  },
  {
   "cell_type": "code",
   "execution_count": 54,
   "metadata": {},
   "outputs": [
    {
     "data": {
      "text/html": [
       "<div>\n",
       "<style scoped>\n",
       "    .dataframe tbody tr th:only-of-type {\n",
       "        vertical-align: middle;\n",
       "    }\n",
       "\n",
       "    .dataframe tbody tr th {\n",
       "        vertical-align: top;\n",
       "    }\n",
       "\n",
       "    .dataframe thead th {\n",
       "        text-align: right;\n",
       "    }\n",
       "</style>\n",
       "<table border=\"1\" class=\"dataframe\">\n",
       "  <thead>\n",
       "    <tr style=\"text-align: right;\">\n",
       "      <th></th>\n",
       "      <th>Pregnancies</th>\n",
       "      <th>Glucose</th>\n",
       "      <th>BloodPressure</th>\n",
       "      <th>BMI</th>\n",
       "      <th>DiabetesPedigree</th>\n",
       "      <th>Age</th>\n",
       "      <th>Predicted Outcome</th>\n",
       "    </tr>\n",
       "  </thead>\n",
       "  <tbody>\n",
       "    <tr>\n",
       "      <th>0</th>\n",
       "      <td>4</td>\n",
       "      <td>136</td>\n",
       "      <td>70</td>\n",
       "      <td>31.2</td>\n",
       "      <td>1.182</td>\n",
       "      <td>22</td>\n",
       "      <td>1</td>\n",
       "    </tr>\n",
       "    <tr>\n",
       "      <th>1</th>\n",
       "      <td>1</td>\n",
       "      <td>121</td>\n",
       "      <td>78</td>\n",
       "      <td>39.0</td>\n",
       "      <td>0.261</td>\n",
       "      <td>28</td>\n",
       "      <td>0</td>\n",
       "    </tr>\n",
       "    <tr>\n",
       "      <th>2</th>\n",
       "      <td>3</td>\n",
       "      <td>108</td>\n",
       "      <td>62</td>\n",
       "      <td>26.0</td>\n",
       "      <td>0.223</td>\n",
       "      <td>25</td>\n",
       "      <td>0</td>\n",
       "    </tr>\n",
       "    <tr>\n",
       "      <th>3</th>\n",
       "      <td>0</td>\n",
       "      <td>181</td>\n",
       "      <td>88</td>\n",
       "      <td>43.3</td>\n",
       "      <td>0.222</td>\n",
       "      <td>26</td>\n",
       "      <td>1</td>\n",
       "    </tr>\n",
       "    <tr>\n",
       "      <th>4</th>\n",
       "      <td>8</td>\n",
       "      <td>154</td>\n",
       "      <td>78</td>\n",
       "      <td>32.4</td>\n",
       "      <td>0.443</td>\n",
       "      <td>45</td>\n",
       "      <td>1</td>\n",
       "    </tr>\n",
       "  </tbody>\n",
       "</table>\n",
       "</div>"
      ],
      "text/plain": [
       "   Pregnancies  Glucose  BloodPressure   BMI  DiabetesPedigree  Age  \\\n",
       "0            4      136             70  31.2             1.182   22   \n",
       "1            1      121             78  39.0             0.261   28   \n",
       "2            3      108             62  26.0             0.223   25   \n",
       "3            0      181             88  43.3             0.222   26   \n",
       "4            8      154             78  32.4             0.443   45   \n",
       "\n",
       "   Predicted Outcome  \n",
       "0                  1  \n",
       "1                  0  \n",
       "2                  0  \n",
       "3                  1  \n",
       "4                  1  "
      ]
     },
     "execution_count": 54,
     "metadata": {},
     "output_type": "execute_result"
    }
   ],
   "source": [
    "preds"
   ]
  },
  {
   "cell_type": "code",
   "execution_count": 55,
   "metadata": {},
   "outputs": [],
   "source": [
    "preds2 = preds.drop(columns=['Predicted Outcome', 'DiabetesPedigree'])\n",
    "pred2 = lr.predict(preds2)"
   ]
  },
  {
   "cell_type": "code",
   "execution_count": 56,
   "metadata": {},
   "outputs": [
    {
     "data": {
      "text/plain": [
       "array([0, 0, 0, 1, 1], dtype=int64)"
      ]
     },
     "execution_count": 56,
     "metadata": {},
     "output_type": "execute_result"
    }
   ],
   "source": [
    "pred2"
   ]
  },
  {
   "cell_type": "code",
   "execution_count": 57,
   "metadata": {},
   "outputs": [
    {
     "name": "stdout",
     "output_type": "stream",
     "text": [
      "[[0.655 0.345]\n",
      " [0.697 0.303]\n",
      " [0.898 0.102]\n",
      " [0.161 0.839]\n",
      " [0.215 0.785]]\n"
     ]
    }
   ],
   "source": [
    "print(lr.predict_proba(preds2))"
   ]
  },
  {
   "cell_type": "code",
   "execution_count": 58,
   "metadata": {},
   "outputs": [
    {
     "data": {
      "text/html": [
       "<div>\n",
       "<style scoped>\n",
       "    .dataframe tbody tr th:only-of-type {\n",
       "        vertical-align: middle;\n",
       "    }\n",
       "\n",
       "    .dataframe tbody tr th {\n",
       "        vertical-align: top;\n",
       "    }\n",
       "\n",
       "    .dataframe thead th {\n",
       "        text-align: right;\n",
       "    }\n",
       "</style>\n",
       "<table border=\"1\" class=\"dataframe\">\n",
       "  <thead>\n",
       "    <tr style=\"text-align: right;\">\n",
       "      <th></th>\n",
       "      <th>Pregnancies</th>\n",
       "      <th>Glucose</th>\n",
       "      <th>BloodPressure</th>\n",
       "      <th>BMI</th>\n",
       "      <th>Age</th>\n",
       "      <th>Predicted Outcome</th>\n",
       "    </tr>\n",
       "  </thead>\n",
       "  <tbody>\n",
       "    <tr>\n",
       "      <th>0</th>\n",
       "      <td>4</td>\n",
       "      <td>136</td>\n",
       "      <td>70</td>\n",
       "      <td>31.2</td>\n",
       "      <td>22</td>\n",
       "      <td>0</td>\n",
       "    </tr>\n",
       "    <tr>\n",
       "      <th>1</th>\n",
       "      <td>1</td>\n",
       "      <td>121</td>\n",
       "      <td>78</td>\n",
       "      <td>39.0</td>\n",
       "      <td>28</td>\n",
       "      <td>0</td>\n",
       "    </tr>\n",
       "    <tr>\n",
       "      <th>2</th>\n",
       "      <td>3</td>\n",
       "      <td>108</td>\n",
       "      <td>62</td>\n",
       "      <td>26.0</td>\n",
       "      <td>25</td>\n",
       "      <td>0</td>\n",
       "    </tr>\n",
       "    <tr>\n",
       "      <th>3</th>\n",
       "      <td>0</td>\n",
       "      <td>181</td>\n",
       "      <td>88</td>\n",
       "      <td>43.3</td>\n",
       "      <td>26</td>\n",
       "      <td>1</td>\n",
       "    </tr>\n",
       "    <tr>\n",
       "      <th>4</th>\n",
       "      <td>8</td>\n",
       "      <td>154</td>\n",
       "      <td>78</td>\n",
       "      <td>32.4</td>\n",
       "      <td>45</td>\n",
       "      <td>1</td>\n",
       "    </tr>\n",
       "  </tbody>\n",
       "</table>\n",
       "</div>"
      ],
      "text/plain": [
       "   Pregnancies  Glucose  BloodPressure   BMI  Age  Predicted Outcome\n",
       "0            4      136             70  31.2   22                  0\n",
       "1            1      121             78  39.0   28                  0\n",
       "2            3      108             62  26.0   25                  0\n",
       "3            0      181             88  43.3   26                  1\n",
       "4            8      154             78  32.4   45                  1"
      ]
     },
     "execution_count": 58,
     "metadata": {},
     "output_type": "execute_result"
    }
   ],
   "source": [
    "preds2['Predicted Outcome'] = lr.predict(preds2)\n",
    "preds2"
   ]
  },
  {
   "cell_type": "code",
   "execution_count": 59,
   "metadata": {},
   "outputs": [
    {
     "data": {
      "text/plain": [
       "0.30230470535071774"
      ]
     },
     "execution_count": 59,
     "metadata": {},
     "output_type": "execute_result"
    }
   ],
   "source": [
    "math.exp(-9.232182 + (0.123546*1)+(0.040208*121)+(-0.01342*78)+(0.092291*39)+(0.030519*28))/(1+(math.exp(-9.232182 + (0.123546*1)+(0.040208*121)+(-0.01342*78)+(0.092291*39)+(0.030519*28))))"
   ]
  }
 ],
 "metadata": {
  "kernelspec": {
   "display_name": "Python 3.9.12 ('base')",
   "language": "python",
   "name": "python3"
  },
  "language_info": {
   "codemirror_mode": {
    "name": "ipython",
    "version": 3
   },
   "file_extension": ".py",
   "mimetype": "text/x-python",
   "name": "python",
   "nbconvert_exporter": "python",
   "pygments_lexer": "ipython3",
   "version": "3.9.12 (main, Apr  4 2022, 05:22:27) [MSC v.1916 64 bit (AMD64)]"
  },
  "orig_nbformat": 4,
  "vscode": {
   "interpreter": {
    "hash": "23bf0724a01b6ea9814e66f76182ea78c0ee849a72ca257c0e116bf83bb4960a"
   }
  }
 },
 "nbformat": 4,
 "nbformat_minor": 2
}
